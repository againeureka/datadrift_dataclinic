{
 "cells": [
  {
   "cell_type": "markdown",
   "metadata": {},
   "source": [
    "# datadrift_without_dimension-reduction\n",
    "기존 고차원 데이터에서 차원축소를 적용하고 데이터 드리프트 시각화"
   ]
  },
  {
   "cell_type": "markdown",
   "metadata": {},
   "source": [
    "## 0. Import Library"
   ]
  },
  {
   "cell_type": "code",
   "execution_count": 3,
   "metadata": {},
   "outputs": [],
   "source": [
    "import pandas as pd\n",
    "import numpy as np\n",
    "import matplotlib.pyplot as plt\n",
    "import seaborn as sns\n",
    "from wordcloud import WordCloud\n",
    "import torch\n",
    "\n",
    "import re\n",
    "\n",
    "import warnings\n",
    "warnings.filterwarnings(action='ignore')\n",
    "\n",
    "def set_seed(seed: int) -> None:\n",
    "    torch.manual_seed(seed)\n",
    "    torch.cuda.manual_seed(seed)\n",
    "    np.random.seed(seed)\n",
    "\n",
    "seed = 1234\n",
    "set_seed(seed)"
   ]
  },
  {
   "cell_type": "code",
   "execution_count": 4,
   "metadata": {},
   "outputs": [],
   "source": [
    "import matplotlib.pyplot as plt\n",
    "from matplotlib import font_manager, rc\n",
    "\n",
    "# 나눔 폰트 경로를 직접 설정 \n",
    "font_path = '/usr/share/fonts/truetype/nanum/NanumGothic.ttf'\n",
    "fontprop = font_manager.FontProperties(fname=font_path)\n",
    "plt.rcParams['font.family'] = fontprop.get_name()"
   ]
  },
  {
   "cell_type": "code",
   "execution_count": 5,
   "metadata": {},
   "outputs": [],
   "source": [
    "# Hugging Face의 병렬 처리가 비활성화\n",
    "import os\n",
    "os.environ[\"TOKENIZERS_PARALLELISM\"] = \"false\""
   ]
  },
  {
   "cell_type": "code",
   "execution_count": 6,
   "metadata": {},
   "outputs": [],
   "source": [
    "# max_len 도출\n",
    "from typing import List\n",
    "\n",
    "def calculate_optimal_max_len(lengths: List[int], thresholds=[64, 128, 256, 512], percentile=90) -> int:\n",
    "    \"\"\"\n",
    "    Calculates the optimal max_len based on the specified percentile of the lengths.\n",
    "    \n",
    "    Args:\n",
    "        lengths (List[int]): List of lengths of each text sample.\n",
    "        thresholds (List[int]): Possible threshold values to choose from.\n",
    "        percentile (int): The percentile to use as the cutoff for length.\n",
    "\n",
    "    Returns:\n",
    "        int: The optimal max_len based on the given percentile.\n",
    "    \"\"\"\n",
    "    # Calculate the length at the specified percentile\n",
    "    max_len_suggestion = np.percentile(lengths, percentile)\n",
    "    \n",
    "    # Find the closest threshold\n",
    "    optimal_max_len = min(thresholds, key=lambda x: abs(x - max_len_suggestion))\n",
    "    \n",
    "    # Plot length distribution and percentile line\n",
    "    plt.hist(lengths, bins=30, alpha=0.6, color='b', edgecolor='black')\n",
    "    plt.axvline(max_len_suggestion, color='red', linestyle='--', label=f'{percentile}th percentile = {int(max_len_suggestion)}')\n",
    "    plt.axvline(optimal_max_len, color='green', linestyle='-', label=f'Chosen max_len = {optimal_max_len}')\n",
    "    plt.xlabel('Text Length')\n",
    "    plt.ylabel('Frequency')\n",
    "    plt.title('Text Length Distribution with Optimal max_len')\n",
    "    plt.legend()\n",
    "    plt.show()\n",
    "    \n",
    "    return optimal_max_len"
   ]
  },
  {
   "cell_type": "code",
   "execution_count": 7,
   "metadata": {},
   "outputs": [],
   "source": [
    "from sklearn.metrics.pairwise import euclidean_distances, cosine_similarity\n",
    "import matplotlib.pyplot as plt\n",
    "import seaborn as sns\n",
    "\n",
    "def visualize_similarity_distance(vector1, vector2, label1=\"Vector1\", label2=\"Vector2\"):\n",
    "\n",
    "    # 코사인 유사도 및 유클리디안 거리 계산\n",
    "    similarity_block = cosine_similarity(vector1, vector2)\n",
    "    euc_distances = euclidean_distances(vector1, vector2)\n",
    "    \n",
    "    # 시각화\n",
    "    plt.figure(figsize=(12, 5))\n",
    "    \n",
    "    # 코사인 유사도 히트맵\n",
    "    plt.subplot(1, 2, 1)\n",
    "    sns.heatmap(similarity_block, cmap=\"YlGnBu\", xticklabels=False, yticklabels=False)\n",
    "    plt.title(\"Cosine Similarity\")\n",
    "    plt.xlabel(label1)\n",
    "    plt.ylabel(label2)\n",
    "    \n",
    "    # 유클리디안 거리 히트맵\n",
    "    plt.subplot(1, 2, 2)\n",
    "    sns.heatmap(euc_distances, cmap=\"YlGnBu\", xticklabels=False, yticklabels=False)\n",
    "    plt.title(\"Euclidean Distance\")\n",
    "    plt.xlabel(label1)\n",
    "    plt.ylabel(label2)\n",
    "    \n",
    "    plt.tight_layout()\n",
    "    plt.show()\n"
   ]
  },
  {
   "cell_type": "markdown",
   "metadata": {},
   "source": [
    "## 1. Load Data"
   ]
  },
  {
   "cell_type": "code",
   "execution_count": 8,
   "metadata": {},
   "outputs": [],
   "source": [
    "law_train = pd.read_csv('../dataset_law/data/train_data.csv')\n",
    "law_valid = pd.read_csv('../dataset_law/data/val_data.csv')\n",
    "law_test = pd.read_csv('../dataset_law/data/test_data.csv')"
   ]
  },
  {
   "cell_type": "code",
   "execution_count": 13,
   "metadata": {},
   "outputs": [
    {
     "data": {
      "application/vnd.jupyter.widget-view+json": {
       "model_id": "fb050b2347c24dabb1dd58af23f9c2ff",
       "version_major": 2,
       "version_minor": 0
      },
      "text/plain": [
       "0000.parquet:   0%|          | 0.00/5.66M [00:00<?, ?B/s]"
      ]
     },
     "metadata": {},
     "output_type": "display_data"
    },
    {
     "data": {
      "application/vnd.jupyter.widget-view+json": {
       "model_id": "d1ead3b64ebc46b684d3ddf9ca04efe4",
       "version_major": 2,
       "version_minor": 0
      },
      "text/plain": [
       "(…)e_classification/validation/0000.parquet:   0%|          | 0.00/739k [00:00<?, ?B/s]"
      ]
     },
     "metadata": {},
     "output_type": "display_data"
    },
    {
     "data": {
      "application/vnd.jupyter.widget-view+json": {
       "model_id": "f858c2096c9b469b97683e865611e950",
       "version_major": 2,
       "version_minor": 0
      },
      "text/plain": [
       "(…)asename_classification/test/0000.parquet:   0%|          | 0.00/743k [00:00<?, ?B/s]"
      ]
     },
     "metadata": {},
     "output_type": "display_data"
    },
    {
     "data": {
      "application/vnd.jupyter.widget-view+json": {
       "model_id": "4d2150d70b4945d1941a8f26505e5771",
       "version_major": 2,
       "version_minor": 0
      },
      "text/plain": [
       "(…)sename_classification/test2/0000.parquet:   0%|          | 0.00/890k [00:00<?, ?B/s]"
      ]
     },
     "metadata": {},
     "output_type": "display_data"
    },
    {
     "data": {
      "application/vnd.jupyter.widget-view+json": {
       "model_id": "98c6057aa1e74cd2b644a65693ca3125",
       "version_major": 2,
       "version_minor": 0
      },
      "text/plain": [
       "Generating train split:   0%|          | 0/8000 [00:00<?, ? examples/s]"
      ]
     },
     "metadata": {},
     "output_type": "display_data"
    },
    {
     "data": {
      "application/vnd.jupyter.widget-view+json": {
       "model_id": "2588f9448af846b3863d3096d79ef8cf",
       "version_major": 2,
       "version_minor": 0
      },
      "text/plain": [
       "Generating validation split:   0%|          | 0/1000 [00:00<?, ? examples/s]"
      ]
     },
     "metadata": {},
     "output_type": "display_data"
    },
    {
     "data": {
      "application/vnd.jupyter.widget-view+json": {
       "model_id": "45db8965dbf24798893d5a50a3ec3aea",
       "version_major": 2,
       "version_minor": 0
      },
      "text/plain": [
       "Generating test split:   0%|          | 0/1000 [00:00<?, ? examples/s]"
      ]
     },
     "metadata": {},
     "output_type": "display_data"
    },
    {
     "data": {
      "application/vnd.jupyter.widget-view+json": {
       "model_id": "8ac24606eca340bcacb1b9f31f901124",
       "version_major": 2,
       "version_minor": 0
      },
      "text/plain": [
       "Generating test2 split:   0%|          | 0/1294 [00:00<?, ? examples/s]"
      ]
     },
     "metadata": {},
     "output_type": "display_data"
    }
   ],
   "source": [
    "from datasets import load_dataset\n",
    "data_cn = load_dataset(\"lbox/lbox_open\", \"casename_classification\", download_mode=\"force_redownload\")\n",
    "\n",
    "test_data = data_cn['test']\n",
    "test = pd.DataFrame(test_data)\n",
    "lbox_test = test[['casetype', 'casename', 'facts']]"
   ]
  },
  {
   "cell_type": "code",
   "execution_count": 10,
   "metadata": {},
   "outputs": [
    {
     "data": {
      "text/html": [
       "<div>\n",
       "<style scoped>\n",
       "    .dataframe tbody tr th:only-of-type {\n",
       "        vertical-align: middle;\n",
       "    }\n",
       "\n",
       "    .dataframe tbody tr th {\n",
       "        vertical-align: top;\n",
       "    }\n",
       "\n",
       "    .dataframe thead th {\n",
       "        text-align: right;\n",
       "    }\n",
       "</style>\n",
       "<table border=\"1\" class=\"dataframe\">\n",
       "  <thead>\n",
       "    <tr style=\"text-align: right;\">\n",
       "      <th></th>\n",
       "      <th>class</th>\n",
       "      <th>text</th>\n",
       "    </tr>\n",
       "  </thead>\n",
       "  <tbody>\n",
       "    <tr>\n",
       "      <th>0</th>\n",
       "      <td>i</td>\n",
       "      <td>2) 또한 자동차 열쇠에 대한 배타적인 점유를 취득하는 이상 인근에 주차된 해당 자...</td>\n",
       "    </tr>\n",
       "    <tr>\n",
       "      <th>1</th>\n",
       "      <td>w</td>\n",
       "      <td>자기의 행위로 인하여 타인의 사망이라는 결과를 발생시킬 만한 가능성 또는 위험이 있...</td>\n",
       "    </tr>\n",
       "  </tbody>\n",
       "</table>\n",
       "</div>"
      ],
      "text/plain": [
       "  class                                               text\n",
       "0     i  2) 또한 자동차 열쇠에 대한 배타적인 점유를 취득하는 이상 인근에 주차된 해당 자...\n",
       "1     w  자기의 행위로 인하여 타인의 사망이라는 결과를 발생시킬 만한 가능성 또는 위험이 있..."
      ]
     },
     "execution_count": 10,
     "metadata": {},
     "output_type": "execute_result"
    }
   ],
   "source": [
    "law_train.head(2)"
   ]
  },
  {
   "cell_type": "code",
   "execution_count": 11,
   "metadata": {},
   "outputs": [
    {
     "data": {
      "text/html": [
       "<div>\n",
       "<style scoped>\n",
       "    .dataframe tbody tr th:only-of-type {\n",
       "        vertical-align: middle;\n",
       "    }\n",
       "\n",
       "    .dataframe tbody tr th {\n",
       "        vertical-align: top;\n",
       "    }\n",
       "\n",
       "    .dataframe thead th {\n",
       "        text-align: right;\n",
       "    }\n",
       "</style>\n",
       "<table border=\"1\" class=\"dataframe\">\n",
       "  <thead>\n",
       "    <tr style=\"text-align: right;\">\n",
       "      <th></th>\n",
       "      <th>class</th>\n",
       "      <th>text</th>\n",
       "    </tr>\n",
       "  </thead>\n",
       "  <tbody>\n",
       "    <tr>\n",
       "      <th>0</th>\n",
       "      <td>i</td>\n",
       "      <td>피해자가 입은 상해의 부위 및 정도는 사망에 이를 수 있는 정도의 위험한 수준이었고,</td>\n",
       "    </tr>\n",
       "    <tr>\n",
       "      <th>1</th>\n",
       "      <td>c</td>\n",
       "      <td>이 사건 범행 당시 피고인에게 미필적으로나마 살인의 범의가 있었음을 충분히 인정할 ...</td>\n",
       "    </tr>\n",
       "  </tbody>\n",
       "</table>\n",
       "</div>"
      ],
      "text/plain": [
       "  class                                               text\n",
       "0     i    피해자가 입은 상해의 부위 및 정도는 사망에 이를 수 있는 정도의 위험한 수준이었고,\n",
       "1     c  이 사건 범행 당시 피고인에게 미필적으로나마 살인의 범의가 있었음을 충분히 인정할 ..."
      ]
     },
     "execution_count": 11,
     "metadata": {},
     "output_type": "execute_result"
    }
   ],
   "source": [
    "law_valid.head(2)"
   ]
  },
  {
   "cell_type": "code",
   "execution_count": 14,
   "metadata": {},
   "outputs": [
    {
     "data": {
      "text/html": [
       "<div>\n",
       "<style scoped>\n",
       "    .dataframe tbody tr th:only-of-type {\n",
       "        vertical-align: middle;\n",
       "    }\n",
       "\n",
       "    .dataframe tbody tr th {\n",
       "        vertical-align: top;\n",
       "    }\n",
       "\n",
       "    .dataframe thead th {\n",
       "        text-align: right;\n",
       "    }\n",
       "</style>\n",
       "<table border=\"1\" class=\"dataframe\">\n",
       "  <thead>\n",
       "    <tr style=\"text-align: right;\">\n",
       "      <th></th>\n",
       "      <th>casetype</th>\n",
       "      <th>casename</th>\n",
       "      <th>facts</th>\n",
       "    </tr>\n",
       "  </thead>\n",
       "  <tbody>\n",
       "    <tr>\n",
       "      <th>0</th>\n",
       "      <td>criminal</td>\n",
       "      <td>감염병의예방및관리에관한법률위반</td>\n",
       "      <td>질병관리청장, 시·도지사 또는 시장·군수·구청장은 감염병이 유행하면 감염병의 전파를...</td>\n",
       "    </tr>\n",
       "    <tr>\n",
       "      <th>1</th>\n",
       "      <td>criminal</td>\n",
       "      <td>감염병의예방및관리에관한법률위반</td>\n",
       "      <td>질병관리청장, 시․도지사 또는 시장․군수․구청장은 감염병을 예방하기 위하여 감염병의...</td>\n",
       "    </tr>\n",
       "  </tbody>\n",
       "</table>\n",
       "</div>"
      ],
      "text/plain": [
       "   casetype          casename  \\\n",
       "0  criminal  감염병의예방및관리에관한법률위반   \n",
       "1  criminal  감염병의예방및관리에관한법률위반   \n",
       "\n",
       "                                               facts  \n",
       "0  질병관리청장, 시·도지사 또는 시장·군수·구청장은 감염병이 유행하면 감염병의 전파를...  \n",
       "1  질병관리청장, 시․도지사 또는 시장․군수․구청장은 감염병을 예방하기 위하여 감염병의...  "
      ]
     },
     "execution_count": 14,
     "metadata": {},
     "output_type": "execute_result"
    }
   ],
   "source": [
    "lbox_test.head(2)"
   ]
  },
  {
   "cell_type": "markdown",
   "metadata": {},
   "source": [
    "## 2. Embedding"
   ]
  },
  {
   "cell_type": "code",
   "execution_count": 8,
   "metadata": {},
   "outputs": [
    {
     "data": {
      "text/plain": [
       "device(type='cuda')"
      ]
     },
     "execution_count": 8,
     "metadata": {},
     "output_type": "execute_result"
    }
   ],
   "source": [
    "import torch\n",
    "\n",
    "device = torch.device(\"cuda\" if torch.cuda.is_available() else \"cpu\")\n",
    "device"
   ]
  },
  {
   "cell_type": "code",
   "execution_count": 9,
   "metadata": {},
   "outputs": [
    {
     "name": "stderr",
     "output_type": "stream",
     "text": [
      "2024-12-09 12:23:33.812559: I tensorflow/core/platform/cpu_feature_guard.cc:193] This TensorFlow binary is optimized with oneAPI Deep Neural Network Library (oneDNN) to use the following CPU instructions in performance-critical operations:  AVX2 AVX_VNNI FMA\n",
      "To enable them in other operations, rebuild TensorFlow with the appropriate compiler flags.\n",
      "2024-12-09 12:23:33.886880: I tensorflow/core/util/port.cc:104] oneDNN custom operations are on. You may see slightly different numerical results due to floating-point round-off errors from different computation orders. To turn them off, set the environment variable `TF_ENABLE_ONEDNN_OPTS=0`.\n",
      "2024-12-09 12:23:33.888654: W tensorflow/compiler/xla/stream_executor/platform/default/dso_loader.cc:64] Could not load dynamic library 'libcudart.so.11.0'; dlerror: libcudart.so.11.0: cannot open shared object file: No such file or directory\n",
      "2024-12-09 12:23:33.888665: I tensorflow/compiler/xla/stream_executor/cuda/cudart_stub.cc:29] Ignore above cudart dlerror if you do not have a GPU set up on your machine.\n",
      "2024-12-09 12:23:34.213415: W tensorflow/compiler/xla/stream_executor/platform/default/dso_loader.cc:64] Could not load dynamic library 'libnvinfer.so.7'; dlerror: libnvinfer.so.7: cannot open shared object file: No such file or directory\n",
      "2024-12-09 12:23:34.213452: W tensorflow/compiler/xla/stream_executor/platform/default/dso_loader.cc:64] Could not load dynamic library 'libnvinfer_plugin.so.7'; dlerror: libnvinfer_plugin.so.7: cannot open shared object file: No such file or directory\n",
      "2024-12-09 12:23:34.213455: W tensorflow/compiler/tf2tensorrt/utils/py_utils.cc:38] TF-TRT Warning: Cannot dlopen some TensorRT libraries. If you would like to use Nvidia GPU with TensorRT, please make sure the missing libraries mentioned above are installed properly.\n",
      "Some weights of the model checkpoint at klue/roberta-base were not used when initializing RobertaModel: ['lm_head.decoder.bias', 'lm_head.dense.weight', 'lm_head.layer_norm.weight', 'lm_head.layer_norm.bias', 'lm_head.bias', 'lm_head.dense.bias', 'lm_head.decoder.weight']\n",
      "- This IS expected if you are initializing RobertaModel from the checkpoint of a model trained on another task or with another architecture (e.g. initializing a BertForSequenceClassification model from a BertForPreTraining model).\n",
      "- This IS NOT expected if you are initializing RobertaModel from the checkpoint of a model that you expect to be exactly identical (initializing a BertForSequenceClassification model from a BertForSequenceClassification model).\n",
      "Some weights of RobertaModel were not initialized from the model checkpoint at klue/roberta-base and are newly initialized: ['roberta.pooler.dense.bias', 'roberta.pooler.dense.weight']\n",
      "You should probably TRAIN this model on a down-stream task to be able to use it for predictions and inference.\n"
     ]
    }
   ],
   "source": [
    "# KLUE RoBERTa 모델과 토크나이저 설정\n",
    "from transformers import AutoModel, AutoTokenizer\n",
    "\n",
    "model_name = \"klue/roberta-base\"\n",
    "tokenizer = AutoTokenizer.from_pretrained(model_name, use_fast=False)\n",
    "model = AutoModel.from_pretrained(model_name).to(device)"
   ]
  },
  {
   "cell_type": "code",
   "execution_count": 10,
   "metadata": {},
   "outputs": [
    {
     "data": {
      "image/png": "[encoded data removed]",
      "text/plain": [
       "<Figure size 640x480 with 1 Axes>"
      ]
     },
     "metadata": {},
     "output_type": "display_data"
    }
   ],
   "source": [
    "# max_len 길이 구하기\n",
    "token_lengths = [len(tokenizer.encode(text)) for text in law_train[\"text\"]]\n",
    "\n",
    "# 최적의 max_len 계산\n",
    "max_len = calculate_optimal_max_len(token_lengths)"
   ]
  },
  {
   "cell_type": "code",
   "execution_count": 11,
   "metadata": {},
   "outputs": [],
   "source": [
    "from torch.utils.data import DataLoader, Dataset\n",
    "\n",
    "# 1. 커스텀 데이터셋 정의\n",
    "class CustomDataset(Dataset):\n",
    "    def __init__(self, dataframe):\n",
    "        self.data = dataframe\n",
    "        # `text` 또는 `facts` 열 자동 선택\n",
    "        self.column_name = 'text' if 'text' in dataframe.columns else 'facts'\n",
    "        self.texts = self.data[self.column_name]\n",
    "\n",
    "    def __len__(self):\n",
    "        return len(self.texts)\n",
    "\n",
    "    def __getitem__(self, idx):\n",
    "        return self.texts.iloc[idx]\n",
    "    \n",
    "# 2. 데이터셋 준비\n",
    "train_dataset = CustomDataset(law_train)\n",
    "valid_dataset = CustomDataset(law_test)\n",
    "test_dataset = CustomDataset(lbox_test)\n",
    "\n",
    "train_loader = DataLoader(train_dataset, batch_size=32, shuffle=False)\n",
    "valid_loader = DataLoader(valid_dataset, batch_size=32, shuffle=False)\n",
    "test_loader = DataLoader(test_dataset, batch_size=32, shuffle=False)"
   ]
  },
  {
   "cell_type": "code",
   "execution_count": 12,
   "metadata": {},
   "outputs": [],
   "source": [
    "# 3. 임베딩 생성 함수\n",
    "def generate_embeddings(data_loader):\n",
    "    embeddings = []\n",
    "    model.eval()\n",
    "    with torch.no_grad():\n",
    "        for batch in data_loader:\n",
    "            inputs = tokenizer(list(batch), return_tensors=\"pt\", padding=True, truncation=True, max_length=max_len).to(\"cuda\")\n",
    "            outputs = model(**inputs)\n",
    "            cls_embeddings = outputs.last_hidden_state[:, 0, :]  # [CLS] 토큰의 임베딩 사용\n",
    "            embeddings.append(cls_embeddings.cpu())\n",
    "    return torch.cat(embeddings).numpy()\n",
    "\n",
    "# 데이터 임베딩 생성\n",
    "train_embeddings = generate_embeddings(train_loader)\n",
    "valid_embeddings = generate_embeddings(valid_loader)\n",
    "test_embeddings = generate_embeddings(test_loader)"
   ]
  },
  {
   "cell_type": "markdown",
   "metadata": {},
   "source": [
    "## 3. Dimenension Reduction"
   ]
  },
  {
   "cell_type": "markdown",
   "metadata": {},
   "source": [
    "### settings for detecting datadrift"
   ]
  },
  {
   "cell_type": "code",
   "execution_count": 13,
   "metadata": {},
   "outputs": [],
   "source": [
    "# MMD\n",
    "import pandas as pd\n",
    "from evidently.metrics import EmbeddingsDriftMetric\n",
    "from evidently.report import Report\n",
    "from evidently.metrics.data_drift.embedding_drift_methods import mmd\n",
    "from evidently import ColumnMapping\n",
    "\n",
    "def mmd_scores(train_reduced, valid_reduced, test_reduced, threshold=0.015):\n",
    "    \"\"\"\n",
    "    Train과 Valid, Train과 Test 간의 드리프트 점수를 계산하여 반환.\n",
    "\n",
    "    Parameters:\n",
    "    - train_reduced: Train 데이터의 reduced 결과 (numpy array)\n",
    "    - valid_reduced: Valid 데이터의 reduced 결과 (numpy array)\n",
    "    - test_reduced: Test 데이터의 reduced 결과 (numpy array)\n",
    "    - threshold: MMD에서 사용하는 드리프트 탐지 임계값 (default=0.015)\n",
    "\n",
    "    Returns:\n",
    "    - dict: Train vs Valid, Train vs Test의 드리프트 점수를 포함한 딕셔너리\n",
    "    \"\"\"\n",
    "    # Reference 데이터프레임 생성\n",
    "    reference_df = pd.DataFrame(train_reduced, \n",
    "                                columns=[f\"dim_{i}\" for i in range(train_reduced.shape[1])])\n",
    "    # Valid 데이터프레임 생성\n",
    "    valid_df = pd.DataFrame(valid_reduced, \n",
    "                            columns=[f\"dim_{i}\" for i in range(valid_reduced.shape[1])])\n",
    "    # Test 데이터프레임 생성\n",
    "    test_df = pd.DataFrame(test_reduced, \n",
    "                           columns=[f\"dim_{i}\" for i in range(test_reduced.shape[1])])\n",
    "    \n",
    "    # ColumnMapping 정의\n",
    "    column_mapping = ColumnMapping(\n",
    "        embeddings={'all_dimensions': reference_df.columns}  # 전체 열을 포함\n",
    "    )\n",
    "\n",
    "    # MMD 기반 드리프트 계산 함수\n",
    "    def get_drift_score(reference_df, current_df):\n",
    "        report = Report(metrics=[\n",
    "            EmbeddingsDriftMetric(\n",
    "                'all_dimensions',\n",
    "                drift_method=mmd(\n",
    "                    threshold=threshold,\n",
    "                    bootstrap=None,\n",
    "                    quantile_probability=0.95,\n",
    "                  #  reduced_components=None\n",
    "                )\n",
    "            )\n",
    "        ])\n",
    "        report.run(reference_data=reference_df, current_data=current_df, column_mapping=column_mapping)\n",
    "        drift_result = report.as_dict()\n",
    "        return round(drift_result[\"metrics\"][0][\"result\"][\"drift_score\"],4)\n",
    "\n",
    "    # Train vs Valid 드리프트 계산\n",
    "    drift_score_valid = get_drift_score(reference_df, valid_df)\n",
    "\n",
    "    # Train vs Test 드리프트 계산\n",
    "    drift_score_test = get_drift_score(reference_df, test_df)\n",
    "\n",
    "    # 결과 반환\n",
    "    return {\n",
    "        \"Train vs Valid Drift Score\": drift_score_valid,\n",
    "        \"Train vs Test Drift Score\": drift_score_test\n",
    "    }"
   ]
  },
  {
   "cell_type": "code",
   "execution_count": 14,
   "metadata": {},
   "outputs": [],
   "source": [
    "# wasserstein, kl_div, jensenshannon, ed\n",
    "import pandas as pd\n",
    "from evidently.metrics import EmbeddingsDriftMetric\n",
    "from evidently.report import Report\n",
    "from evidently.metrics.data_drift.embedding_drift_methods import ratio\n",
    "from evidently import ColumnMapping\n",
    "\n",
    "def multiple_scores(train_reduced, valid_reduced, test_reduced, \n",
    "                                    component_stattests, component_threshold=0.1, global_threshold=0.2):\n",
    "    \"\"\"\n",
    "    Train과 Valid, Train과 Test 간의 여러 드리프트 측정 방법으로 드리프트 점수를 계산하여 반환.\n",
    "\n",
    "    Parameters:\n",
    "    - train_reduced: Train 데이터의 reduced 결과 (numpy array)\n",
    "    - valid_reduced: Valid 데이터의 reduced 결과 (numpy array)\n",
    "    - test_reduced: Test 데이터의 reduced 결과 (numpy array)\n",
    "    - component_stattests: 사용할 component_stattest 방법 리스트 (e.g., ['wasserstein', 'kl_div', 'jensenshannon', 'ed'])\n",
    "    - component_threshold: 각 주성분의 드리프트 임계값 (default=0.1)\n",
    "    - global_threshold: 전체 드리프트 임계값 (default=0.2)\n",
    "\n",
    "    Returns:\n",
    "    - dict: 각 방법별 Train vs Valid, Train vs Test의 드리프트 점수를 포함한 딕셔너리\n",
    "    \"\"\"\n",
    "    # Reference 데이터프레임 생성\n",
    "    reference_df = pd.DataFrame(train_reduced, \n",
    "                                columns=[f\"dim_{i}\" for i in range(train_reduced.shape[1])])\n",
    "    # Valid 데이터프레임 생성\n",
    "    valid_df = pd.DataFrame(valid_reduced, \n",
    "                            columns=[f\"dim_{i}\" for i in range(valid_reduced.shape[1])])\n",
    "    # Test 데이터프레임 생성\n",
    "    test_df = pd.DataFrame(test_reduced, \n",
    "                           columns=[f\"dim_{i}\" for i in range(test_reduced.shape[1])])\n",
    "    \n",
    "    # ColumnMapping 정의\n",
    "    column_mapping = ColumnMapping(\n",
    "        embeddings={'all_dimensions': reference_df.columns}  # 전체 열을 포함\n",
    "    )\n",
    "\n",
    "    # 드리프트 계산 함수\n",
    "    def get_drift_score(reference_df, current_df, stattest_method):\n",
    "        report = Report(metrics=[\n",
    "            EmbeddingsDriftMetric(\n",
    "                'all_dimensions',\n",
    "                drift_method=ratio(\n",
    "                    component_stattest=stattest_method,\n",
    "                    component_stattest_threshold=component_threshold,\n",
    "                    threshold=global_threshold,\n",
    "                    pca_components=None\n",
    "                )\n",
    "            )\n",
    "        ])\n",
    "        report.run(reference_data=reference_df, current_data=current_df, column_mapping=column_mapping)\n",
    "        drift_result = report.as_dict()\n",
    "        return round(drift_result[\"metrics\"][0][\"result\"][\"drift_score\"], 4)\n",
    "\n",
    "    # 결과 저장 딕셔너리\n",
    "    drift_scores = {}\n",
    "\n",
    "    # 각 component_stattest 방법에 대해 드리프트 점수 계산\n",
    "    for method in component_stattests:\n",
    "        drift_scores[method] = {\n",
    "            \"Train vs Valid Drift Score\": get_drift_score(reference_df, valid_df, method),\n",
    "            \"Train vs Test Drift Score\": get_drift_score(reference_df, test_df, method),\n",
    "        }\n",
    "\n",
    "    return drift_scores\n"
   ]
  },
  {
   "cell_type": "code",
   "execution_count": 15,
   "metadata": {},
   "outputs": [],
   "source": [
    "from alibi_detect.cd import LSDDDrift\n",
    "\n",
    "def lsdd_score(train_embeddings, valid_embeddings, test_embeddings, p_val=0.05, n_permutations=100):\n",
    "    \"\"\"\n",
    "    Train-Valid, Train-Test 간의 LSDD 기반 드리프트 점수를 계산하여 반환.\n",
    "\n",
    "    Parameters:\n",
    "    - train_embeddings: Train 데이터의 임베딩 결과 (numpy array)\n",
    "    - valid_embeddings: Valid 데이터의 임베딩 결과 (numpy array)\n",
    "    - test_embeddings: Test 데이터의 임베딩 결과 (numpy array)\n",
    "    - p_val: 유의수준 (default=0.05)\n",
    "    - n_permutations: Permutation 수 (default=100)\n",
    "\n",
    "    Returns:\n",
    "    - dict: Train vs Valid, Train vs Test의 드리프트 점수를 포함한 딕셔너리\n",
    "    \"\"\"\n",
    "    # LSDDDrift 객체 초기화\n",
    "    lsdd_drift = LSDDDrift(\n",
    "        x_ref=train_embeddings,\n",
    "        p_val=p_val,\n",
    "        n_permutations=n_permutations,\n",
    "        backend='pytorch'  # 또는 'tensorflow'\n",
    "    )\n",
    "\n",
    "    # Train vs Valid 드리프트 계산\n",
    "    preds_valid = lsdd_drift.predict(valid_embeddings)\n",
    "    drift_score_valid = round(preds_valid['data']['p_val'], 4)  # p-value를 드리프트 점수로 사용\n",
    "\n",
    "    # Train vs Test 드리프트 계산\n",
    "    preds_test = lsdd_drift.predict(test_embeddings)\n",
    "    drift_score_test = round(preds_test['data']['p_val'], 4)  # p-value를 드리프트 점수로 사용\n",
    "\n",
    "    # 결과 반환\n",
    "    return {\n",
    "        \"Train vs Valid Drift Score\": drift_score_valid,\n",
    "        \"Train vs Test Drift Score\": drift_score_test\n",
    "    }"
   ]
  },
  {
   "cell_type": "code",
   "execution_count": 16,
   "metadata": {},
   "outputs": [],
   "source": [
    "import torch\n",
    "import numpy as np\n",
    "from alibi_detect.utils.pytorch.kernels import GaussianRBF, sigma_median\n",
    "from alibi_detect.cd import LearnedKernelDrift\n",
    "\n",
    "def kde_score(train_embeddings, valid_embeddings, test_embeddings, p_val=0.05):\n",
    "    \"\"\"\n",
    "    Train-Valid, Train-Test 간의 KDE 기반 드리프트 점수를 계산하여 반환.\n",
    "\n",
    "    Parameters:\n",
    "    - train_embeddings: Train 데이터의 임베딩 결과 (numpy array)\n",
    "    - valid_embeddings: Valid 데이터의 임베딩 결과 (numpy array)\n",
    "    - test_embeddings: Test 데이터의 임베딩 결과 (numpy array)\n",
    "    - p_val: 유의 수준 (default=0.05)\n",
    "\n",
    "    Returns:\n",
    "    - dict: Train vs Valid, Train vs Test의 드리프트 점수를 포함한 딕셔너리\n",
    "    \"\"\"\n",
    "    # Gaussian RBF 커널 초기화\n",
    "    train_tensor_embeddings = torch.tensor(train_embeddings, dtype=torch.float32)\n",
    "    dist = ((train_tensor_embeddings[:, None, :] - train_tensor_embeddings[None, :, :]) ** 2).sum(-1)\n",
    "    sigma = sigma_median(train_tensor_embeddings, train_tensor_embeddings, dist)\n",
    "    kernel = GaussianRBF(sigma=sigma, trainable=True)\n",
    "\n",
    "    # PyTorch 텐서를 NumPy 배열로 변환\n",
    "    train_np_embeddings = train_tensor_embeddings.numpy()\n",
    "    valid_np_embeddings = torch.tensor(valid_embeddings, dtype=torch.float32).numpy()\n",
    "    test_np_embeddings = torch.tensor(test_embeddings, dtype=torch.float32).numpy()\n",
    "\n",
    "    # KDE 기반 Drift Detection 설정\n",
    "    kde_cd = LearnedKernelDrift(\n",
    "        x_ref=train_np_embeddings,\n",
    "        kernel=kernel,\n",
    "        p_val=p_val,\n",
    "        backend='pytorch',\n",
    "    )\n",
    "\n",
    "    # Train vs Valid 드리프트 계산\n",
    "    preds_valid = kde_cd.predict(valid_np_embeddings)\n",
    "    drift_score_valid = round(preds_valid['data']['p_val'], 4)\n",
    "\n",
    "    # Train vs Test 드리프트 계산\n",
    "    preds_test = kde_cd.predict(test_np_embeddings)\n",
    "    drift_score_test = round(preds_test['data']['p_val'], 4)\n",
    "\n",
    "    # 결과 반환\n",
    "    return {\n",
    "        \"Train vs Valid Drift Score\": drift_score_valid,\n",
    "        \"Train vs Test Drift Score\": drift_score_test\n",
    "    }\n"
   ]
  },
  {
   "cell_type": "markdown",
   "metadata": {},
   "source": [
    "### 3.0 Base \n",
    "no dimension reduction"
   ]
  },
  {
   "cell_type": "code",
   "execution_count": 29,
   "metadata": {},
   "outputs": [
    {
     "name": "stdout",
     "output_type": "stream",
     "text": [
      "mmd :  {'Train vs Valid Drift Score': 0.0001, 'Train vs Test Drift Score': 0.2087}\n",
      "\n",
      "Drift Method: wasserstein\n",
      "  Train vs Valid Drift Score: 0.0247\n",
      "  Train vs Test Drift Score: 0.9635\n",
      "\n",
      "Drift Method: kl_div\n",
      "  Train vs Valid Drift Score: 0.0\n",
      "  Train vs Test Drift Score: 0.6966\n",
      "\n",
      "Drift Method: jensenshannon\n",
      "  Train vs Valid Drift Score: 0.0\n",
      "  Train vs Test Drift Score: 0.8971\n",
      "\n",
      "Drift Method: ed\n",
      "  Train vs Valid Drift Score: 0.0\n",
      "  Train vs Test Drift Score: 0.474\n",
      "\n",
      "\n",
      "{'Train vs Valid Drift Score': 0.17, 'Train vs Test Drift Score': 0.0}\n",
      "\n",
      "{'Train vs Valid Drift Score': 0.37, 'Train vs Test Drift Score': 0.0}\n"
     ]
    }
   ],
   "source": [
    "drift_scores = mmd_scores(train_embeddings, valid_embeddings, test_embeddings)\n",
    "print('mmd : ', drift_scores)\n",
    "\n",
    "print()\n",
    "\n",
    "component_stattests = ['wasserstein', 'kl_div', 'jensenshannon', 'ed']\n",
    "\n",
    "# 드리프트 점수 계산\n",
    "drift_scores = multiple_scores(train_embeddings, valid_embeddings, test_embeddings,component_stattests)\n",
    "# 결과 출력\n",
    "for method, scores in drift_scores.items():\n",
    "    print(f\"Drift Method: {method}\")\n",
    "    print(f\"  Train vs Valid Drift Score: {scores['Train vs Valid Drift Score']}\")\n",
    "    print(f\"  Train vs Test Drift Score: {scores['Train vs Test Drift Score']}\")\n",
    "    print()\n",
    "\n",
    "print()\n",
    "\n",
    "print(lsdd_score(train_embeddings, valid_embeddings, test_embeddings, p_val=0.05, n_permutations=100))\n",
    "print()\n",
    "print(kde_score(train_embeddings, valid_embeddings, test_embeddings, p_val=0.05))"
   ]
  },
  {
   "cell_type": "markdown",
   "metadata": {},
   "source": [
    "### 3.1. PCA"
   ]
  },
  {
   "cell_type": "code",
   "execution_count": 17,
   "metadata": {},
   "outputs": [],
   "source": [
    "from sklearn.decomposition import PCA\n",
    "\n",
    "pca = PCA(n_components = 226)\n",
    "pca.fit(train_embeddings)\n",
    "\n",
    "train_pca = pca.transform(train_embeddings)\n",
    "valid_pca = pca.transform(valid_embeddings)\n",
    "test_pca = pca.transform(test_embeddings)"
   ]
  },
  {
   "cell_type": "code",
   "execution_count": 18,
   "metadata": {},
   "outputs": [
    {
     "name": "stdout",
     "output_type": "stream",
     "text": [
      "mmd :  {'Train vs Valid Drift Score': 0.0001, 'Train vs Test Drift Score': 0.2172}\n",
      "\n",
      "Drift Method: wasserstein\n",
      "  Train vs Valid Drift Score: 0.0044\n",
      "  Train vs Test Drift Score: 1.0\n",
      "\n",
      "Drift Method: kl_div\n",
      "  Train vs Valid Drift Score: 0.0\n",
      "  Train vs Test Drift Score: 0.8982\n",
      "\n",
      "Drift Method: jensenshannon\n",
      "  Train vs Valid Drift Score: 0.0\n",
      "  Train vs Test Drift Score: 0.9912\n",
      "\n",
      "Drift Method: ed\n",
      "  Train vs Valid Drift Score: 0.0\n",
      "  Train vs Test Drift Score: 0.3628\n",
      "\n",
      "\n",
      "{'Train vs Valid Drift Score': 0.13, 'Train vs Test Drift Score': 0.0}\n",
      "\n",
      "{'Train vs Valid Drift Score': 0.7, 'Train vs Test Drift Score': 0.0}\n"
     ]
    }
   ],
   "source": [
    "drift_scores = mmd_scores(train_pca, valid_pca, test_pca)\n",
    "print('mmd : ', drift_scores)\n",
    "\n",
    "print()\n",
    "\n",
    "component_stattests = ['wasserstein', 'kl_div', 'jensenshannon', 'ed']\n",
    "\n",
    "# 드리프트 점수 계산\n",
    "drift_scores = multiple_scores(train_pca, valid_pca, test_pca,component_stattests)\n",
    "# 결과 출력\n",
    "for method, scores in drift_scores.items():\n",
    "    print(f\"Drift Method: {method}\")\n",
    "    print(f\"  Train vs Valid Drift Score: {scores['Train vs Valid Drift Score']}\")\n",
    "    print(f\"  Train vs Test Drift Score: {scores['Train vs Test Drift Score']}\")\n",
    "    print()\n",
    "\n",
    "print()\n",
    "\n",
    "print(lsdd_score(train_pca, valid_pca, test_pca, p_val=0.05, n_permutations=100))\n",
    "print()\n",
    "print(kde_score(train_pca, valid_pca, test_pca, p_val=0.05))"
   ]
  },
  {
   "cell_type": "markdown",
   "metadata": {},
   "source": [
    "### 3.2 Kernel PCA"
   ]
  },
  {
   "cell_type": "code",
   "execution_count": 19,
   "metadata": {},
   "outputs": [],
   "source": [
    "from sklearn.decomposition import KernelPCA\n",
    "\n",
    "kernel_pca = KernelPCA(n_components = 226)\n",
    "kernel_pca.fit(train_embeddings)\n",
    "\n",
    "train_kernel_pca = kernel_pca.transform(train_embeddings)\n",
    "valid_kernel_pca = kernel_pca.transform(valid_embeddings)\n",
    "test_kernel_pca = kernel_pca.transform(test_embeddings)"
   ]
  },
  {
   "cell_type": "code",
   "execution_count": 20,
   "metadata": {},
   "outputs": [
    {
     "name": "stdout",
     "output_type": "stream",
     "text": [
      "mmd :  {'Train vs Valid Drift Score': 0.0001, 'Train vs Test Drift Score': 0.2174}\n",
      "\n",
      "Drift Method: wasserstein\n",
      "  Train vs Valid Drift Score: 0.0088\n",
      "  Train vs Test Drift Score: 1.0\n",
      "\n",
      "Drift Method: kl_div\n",
      "  Train vs Valid Drift Score: 0.0\n",
      "  Train vs Test Drift Score: 0.8982\n",
      "\n",
      "Drift Method: jensenshannon\n",
      "  Train vs Valid Drift Score: 0.0\n",
      "  Train vs Test Drift Score: 0.9912\n",
      "\n",
      "Drift Method: ed\n",
      "  Train vs Valid Drift Score: 0.0\n",
      "  Train vs Test Drift Score: 0.3496\n",
      "\n",
      "\n",
      "{'Train vs Valid Drift Score': 0.13, 'Train vs Test Drift Score': 0.0}\n",
      "\n",
      "{'Train vs Valid Drift Score': 0.42, 'Train vs Test Drift Score': 0.0}\n"
     ]
    }
   ],
   "source": [
    "drift_scores = mmd_scores(train_kernel_pca, valid_kernel_pca, test_kernel_pca)\n",
    "print('mmd : ', drift_scores)\n",
    "\n",
    "print()\n",
    "\n",
    "component_stattests = ['wasserstein', 'kl_div', 'jensenshannon', 'ed']\n",
    "\n",
    "# 드리프트 점수 계산\n",
    "drift_scores = multiple_scores(train_kernel_pca, valid_kernel_pca, test_kernel_pca,component_stattests)\n",
    "# 결과 출력\n",
    "for method, scores in drift_scores.items():\n",
    "    print(f\"Drift Method: {method}\")\n",
    "    print(f\"  Train vs Valid Drift Score: {scores['Train vs Valid Drift Score']}\")\n",
    "    print(f\"  Train vs Test Drift Score: {scores['Train vs Test Drift Score']}\")\n",
    "    print()\n",
    "\n",
    "print()\n",
    "\n",
    "print(lsdd_score(train_kernel_pca, valid_kernel_pca, test_kernel_pca, p_val=0.05, n_permutations=100))\n",
    "print()\n",
    "print(kde_score(train_kernel_pca, valid_kernel_pca, test_kernel_pca, p_val=0.05))"
   ]
  },
  {
   "cell_type": "markdown",
   "metadata": {},
   "source": [
    "### 3.3 SVD"
   ]
  },
  {
   "cell_type": "code",
   "execution_count": 21,
   "metadata": {},
   "outputs": [],
   "source": [
    "from sklearn.decomposition import TruncatedSVD\n",
    "\n",
    "svd = TruncatedSVD(n_components = 226)\n",
    "\n",
    "svd.fit(train_embeddings)\n",
    "\n",
    "train_svd = svd.transform(train_embeddings)\n",
    "valid_svd = svd.transform(valid_embeddings)\n",
    "test_svd = svd.transform(test_embeddings)"
   ]
  },
  {
   "cell_type": "code",
   "execution_count": 23,
   "metadata": {},
   "outputs": [
    {
     "name": "stdout",
     "output_type": "stream",
     "text": [
      "mmd :  {'Train vs Valid Drift Score': 0.0001, 'Train vs Test Drift Score': 0.2174}\n",
      "\n",
      "Drift Method: wasserstein\n",
      "  Train vs Valid Drift Score: 0.0088\n",
      "  Train vs Test Drift Score: 1.0\n",
      "\n",
      "Drift Method: kl_div\n",
      "  Train vs Valid Drift Score: 0.0\n",
      "  Train vs Test Drift Score: 0.9071\n",
      "\n",
      "Drift Method: jensenshannon\n",
      "  Train vs Valid Drift Score: 0.0\n",
      "  Train vs Test Drift Score: 0.9912\n",
      "\n",
      "Drift Method: ed\n",
      "  Train vs Valid Drift Score: 0.0\n",
      "  Train vs Test Drift Score: 0.3628\n",
      "\n",
      "\n",
      "{'Train vs Valid Drift Score': 0.15, 'Train vs Test Drift Score': 0.0}\n",
      "\n",
      "{'Train vs Valid Drift Score': 0.65, 'Train vs Test Drift Score': 0.0}\n"
     ]
    }
   ],
   "source": [
    "drift_scores = mmd_scores(train_svd, valid_svd, test_svd)\n",
    "print('mmd : ', drift_scores)\n",
    "\n",
    "print()\n",
    "\n",
    "component_stattests = ['wasserstein', 'kl_div', 'jensenshannon', 'ed']\n",
    "\n",
    "# 드리프트 점수 계산\n",
    "drift_scores = multiple_scores(train_svd, valid_svd, test_svd,component_stattests)\n",
    "# 결과 출력\n",
    "for method, scores in drift_scores.items():\n",
    "    print(f\"Drift Method: {method}\")\n",
    "    print(f\"  Train vs Valid Drift Score: {scores['Train vs Valid Drift Score']}\")\n",
    "    print(f\"  Train vs Test Drift Score: {scores['Train vs Test Drift Score']}\")\n",
    "    print()\n",
    "\n",
    "print()\n",
    "\n",
    "print(lsdd_score(train_svd, valid_svd, test_svd, p_val=0.05, n_permutations=100))\n",
    "print()\n",
    "print(kde_score(train_svd, valid_svd, test_svd, p_val=0.05))"
   ]
  },
  {
   "cell_type": "markdown",
   "metadata": {},
   "source": [
    "### 3.4 GRP"
   ]
  },
  {
   "cell_type": "code",
   "execution_count": 25,
   "metadata": {},
   "outputs": [],
   "source": [
    "from sklearn.random_projection import GaussianRandomProjection\n",
    "\n",
    "grp = GaussianRandomProjection(n_components = 66)\n",
    "grp.fit(train_embeddings)\n",
    "\n",
    "train_grp = grp.transform(train_embeddings)\n",
    "valid_grp = grp.transform(valid_embeddings)\n",
    "test_grp = grp.transform(test_embeddings)"
   ]
  },
  {
   "cell_type": "code",
   "execution_count": 26,
   "metadata": {},
   "outputs": [
    {
     "name": "stdout",
     "output_type": "stream",
     "text": [
      "mmd :  {'Train vs Valid Drift Score': 0.0001, 'Train vs Test Drift Score': 0.1741}\n",
      "\n",
      "Drift Method: wasserstein\n",
      "  Train vs Valid Drift Score: 0.0152\n",
      "  Train vs Test Drift Score: 0.9545\n",
      "\n",
      "Drift Method: kl_div\n",
      "  Train vs Valid Drift Score: 0.0\n",
      "  Train vs Test Drift Score: 0.6818\n",
      "\n",
      "Drift Method: jensenshannon\n",
      "  Train vs Valid Drift Score: 0.0\n",
      "  Train vs Test Drift Score: 0.8788\n",
      "\n",
      "Drift Method: ed\n",
      "  Train vs Valid Drift Score: 0.0\n",
      "  Train vs Test Drift Score: 0.6818\n",
      "\n",
      "\n",
      "{'Train vs Valid Drift Score': 0.18, 'Train vs Test Drift Score': 0.0}\n",
      "\n",
      "{'Train vs Valid Drift Score': 0.72, 'Train vs Test Drift Score': 0.0}\n"
     ]
    }
   ],
   "source": [
    "drift_scores = mmd_scores(train_grp, valid_grp, test_grp)\n",
    "print('mmd : ', drift_scores)\n",
    "\n",
    "print()\n",
    "\n",
    "component_stattests = ['wasserstein', 'kl_div', 'jensenshannon', 'ed']\n",
    "\n",
    "# 드리프트 점수 계산\n",
    "drift_scores = multiple_scores(train_grp, valid_grp, test_grp,component_stattests)\n",
    "# 결과 출력\n",
    "for method, scores in drift_scores.items():\n",
    "    print(f\"Drift Method: {method}\")\n",
    "    print(f\"  Train vs Valid Drift Score: {scores['Train vs Valid Drift Score']}\")\n",
    "    print(f\"  Train vs Test Drift Score: {scores['Train vs Test Drift Score']}\")\n",
    "    print()\n",
    "\n",
    "print()\n",
    "\n",
    "print(lsdd_score(train_grp, valid_grp, test_grp, p_val=0.05, n_permutations=100))\n",
    "print()\n",
    "print(kde_score(train_grp, valid_grp, test_grp, p_val=0.05))"
   ]
  },
  {
   "cell_type": "markdown",
   "metadata": {},
   "source": [
    "### 3.5 Autoencoder"
   ]
  },
  {
   "cell_type": "code",
   "execution_count": 24,
   "metadata": {},
   "outputs": [],
   "source": [
    "import torch\n",
    "from torch import nn\n",
    "import random\n",
    "\n",
    "def set_seed(seed):\n",
    "    \"\"\"\n",
    "    난수 고정 함수.\n",
    "    Parameters:\n",
    "    - seed (int): 난수 고정을 위한 시드 값.\n",
    "    \"\"\"\n",
    "    torch.manual_seed(seed)\n",
    "    np.random.seed(seed)\n",
    "    random.seed(seed)\n",
    "    if torch.cuda.is_available():\n",
    "        torch.cuda.manual_seed(seed)\n",
    "        torch.cuda.manual_seed_all(seed)\n",
    "\n",
    "class Autoencoder(nn.Module):\n",
    "    def __init__(self, input_dim, latent_dim):\n",
    "        super(Autoencoder, self).__init__()\n",
    "        self.encoder = nn.Sequential(\n",
    "            nn.Linear(input_dim, latent_dim),\n",
    "            nn.ReLU()\n",
    "        )\n",
    "        self.decoder = nn.Sequential(\n",
    "            nn.Linear(latent_dim, input_dim),\n",
    "            nn.Sigmoid()\n",
    "        )\n",
    "\n",
    "    def forward(self, x):\n",
    "        encoded = self.encoder(x)\n",
    "        decoded = self.decoder(encoded)\n",
    "        return encoded, decoded\n",
    "\n",
    "    def fit(self, train_data, epochs=200, lr=0.001, seed=42):\n",
    "        \"\"\"\n",
    "        Autoencoder 학습 함수.\n",
    "        Parameters:\n",
    "        - train_data (numpy.ndarray): 학습 데이터.\n",
    "        - epochs (int): 학습 에폭 수.\n",
    "        - lr (float): 학습률.\n",
    "        - seed (int): 난수 고정을 위한 시드 값.\n",
    "        \"\"\"\n",
    "        # 난수 고정\n",
    "        set_seed(seed)\n",
    "\n",
    "        # Train 데이터 텐서화\n",
    "        train_tensor = torch.tensor(train_data, dtype=torch.float32)\n",
    "\n",
    "        # 손실 함수 및 옵티마이저 정의\n",
    "        criterion = nn.MSELoss()\n",
    "        optimizer = torch.optim.Adam(self.parameters(), lr=lr)\n",
    "\n",
    "        # 모델 학습\n",
    "        self.train()\n",
    "        for epoch in range(epochs):\n",
    "            optimizer.zero_grad()\n",
    "            encoded, decoded = self(train_tensor)\n",
    "            loss = criterion(decoded, train_tensor)\n",
    "            loss.backward()\n",
    "            optimizer.step()\n",
    "\n",
    "            # 학습 진행 상황 출력\n",
    "            if (epoch + 1) % 100 == 0 or epoch == 0:\n",
    "                print(f\"Epoch [{epoch + 1}/{epochs}], Loss: {loss.item():.4f}\")\n",
    "    \n",
    "    def transform(self, new_data):\n",
    "        \"\"\"\n",
    "        학습된 Autoencoder 모델을 사용하여 새로운 데이터를 차원 축소.\n",
    "        Parameters:\n",
    "        - new_data (numpy.ndarray): 새로운 입력 데이터.\n",
    "\n",
    "        Returns:\n",
    "        - numpy.ndarray: 차원 축소된 데이터.\n",
    "        \"\"\"\n",
    "        # 데이터 텐서화\n",
    "        new_tensor = torch.tensor(new_data, dtype=torch.float32)\n",
    "\n",
    "        # 차원 축소 수행\n",
    "        self.eval()  # 평가 모드로 설정\n",
    "        with torch.no_grad():\n",
    "            encoded = self.encoder(new_tensor)\n",
    "        return encoded.numpy()\n",
    "    \n",
    "    def fit_transform(self, train_data, epochs=200, lr=0.001, seed=42):\n",
    "        # 학습\n",
    "        self.fit(train_data, epochs, lr, seed)\n",
    "        \n",
    "        # 차원 축소된 데이터 반환\n",
    "        return self.transform(train_data)"
   ]
  },
  {
   "cell_type": "code",
   "execution_count": 27,
   "metadata": {},
   "outputs": [
    {
     "name": "stdout",
     "output_type": "stream",
     "text": [
      "Epoch [1/200], Loss: 0.5357\n",
      "Epoch [100/200], Loss: 0.2041\n",
      "Epoch [200/200], Loss: 0.2036\n"
     ]
    }
   ],
   "source": [
    "autoencoder = Autoencoder(input_dim=768, latent_dim=328)\n",
    "autoencoder.fit(train_embeddings)\n",
    "\n",
    "train_autoencoder = autoencoder.transform(train_embeddings)\n",
    "valid_autoencoder = autoencoder.transform(valid_embeddings)\n",
    "test_autoencoder = autoencoder.transform(test_embeddings)"
   ]
  },
  {
   "cell_type": "code",
   "execution_count": 28,
   "metadata": {},
   "outputs": [
    {
     "name": "stdout",
     "output_type": "stream",
     "text": [
      "mmd :  {'Train vs Valid Drift Score': 0.0002, 'Train vs Test Drift Score': 0.1619}\n",
      "\n",
      "Drift Method: wasserstein\n",
      "  Train vs Valid Drift Score: 0.0152\n",
      "  Train vs Test Drift Score: 0.4268\n",
      "\n",
      "Drift Method: kl_div\n",
      "  Train vs Valid Drift Score: 0.0\n",
      "  Train vs Test Drift Score: 0.2591\n",
      "\n",
      "Drift Method: jensenshannon\n",
      "  Train vs Valid Drift Score: 0.0\n",
      "  Train vs Test Drift Score: 0.3567\n",
      "\n",
      "Drift Method: ed\n",
      "  Train vs Valid Drift Score: 0.0\n",
      "  Train vs Test Drift Score: 0.1524\n",
      "\n",
      "\n",
      "{'Train vs Valid Drift Score': 0.28, 'Train vs Test Drift Score': 0.0}\n",
      "\n",
      "{'Train vs Valid Drift Score': 0.13, 'Train vs Test Drift Score': 0.0}\n"
     ]
    }
   ],
   "source": [
    "drift_scores = mmd_scores(train_autoencoder, valid_autoencoder, test_autoencoder)\n",
    "print('mmd : ', drift_scores)\n",
    "\n",
    "print()\n",
    "\n",
    "component_stattests = ['wasserstein', 'kl_div', 'jensenshannon', 'ed']\n",
    "\n",
    "# 드리프트 점수 계산\n",
    "drift_scores = multiple_scores(train_autoencoder, valid_autoencoder, test_autoencoder,component_stattests)\n",
    "# 결과 출력\n",
    "for method, scores in drift_scores.items():\n",
    "    print(f\"Drift Method: {method}\")\n",
    "    print(f\"  Train vs Valid Drift Score: {scores['Train vs Valid Drift Score']}\")\n",
    "    print(f\"  Train vs Test Drift Score: {scores['Train vs Test Drift Score']}\")\n",
    "    print()\n",
    "\n",
    "print()\n",
    "\n",
    "print(lsdd_score(train_autoencoder, valid_autoencoder, test_autoencoder, p_val=0.05, n_permutations=100))\n",
    "print()\n",
    "print(kde_score(train_autoencoder, valid_autoencoder, test_autoencoder, p_val=0.05))"
   ]
  },
  {
   "cell_type": "code",
   "execution_count": null,
   "metadata": {},
   "outputs": [],
   "source": []
  }
 ],
 "metadata": {
  "kernelspec": {
   "display_name": "myenv310",
   "language": "python",
   "name": "python3"
  },
  "language_info": {
   "codemirror_mode": {
    "name": "ipython",
    "version": 3
   },
   "file_extension": ".py",
   "mimetype": "text/x-python",
   "name": "python",
   "nbconvert_exporter": "python",
   "pygments_lexer": "ipython3",
   "version": "3.10.15"
  }
 },
 "nbformat": 4,
 "nbformat_minor": 2
}
