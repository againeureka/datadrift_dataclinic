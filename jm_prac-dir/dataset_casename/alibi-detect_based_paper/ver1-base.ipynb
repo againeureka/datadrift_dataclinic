{
 "cells": [
  {
   "cell_type": "markdown",
   "metadata": {},
   "source": [
    "# Base Notebook"
   ]
  },
  {
   "cell_type": "markdown",
   "metadata": {},
   "source": [
    "## 0. Import Library"
   ]
  },
  {
   "cell_type": "code",
   "execution_count": 1,
   "metadata": {},
   "outputs": [],
   "source": [
    "import pandas as pd\n",
    "import numpy as np\n",
    "import matplotlib.pyplot as plt\n",
    "import seaborn as sns\n",
    "#from wordcloud import WordCloud\n",
    "\n",
    "import re\n",
    "#from nltk.corpus import stopwords\n",
    "#from nltk.stem import PorterStemmer\n",
    "\n",
    "#from datasets import load_dataset\n",
    "\n",
    "import warnings\n",
    "warnings.filterwarnings(action='ignore')"
   ]
  },
  {
   "cell_type": "code",
   "execution_count": 2,
   "metadata": {},
   "outputs": [],
   "source": [
    "import matplotlib.pyplot as plt\n",
    "from matplotlib import font_manager, rc\n",
    "\n",
    "# 나눔 폰트 경로를 직접 설정 \n",
    "font_path = '/usr/share/fonts/truetype/nanum/NanumGothic.ttf'\n",
    "fontprop = font_manager.FontProperties(fname=font_path)\n",
    "plt.rcParams['font.family'] = fontprop.get_name()"
   ]
  },
  {
   "cell_type": "code",
   "execution_count": 3,
   "metadata": {},
   "outputs": [],
   "source": [
    "from konlpy.tag import Kkma\n",
    "kkma = Kkma()"
   ]
  },
  {
   "cell_type": "markdown",
   "metadata": {},
   "source": [
    "## 1. Load Data"
   ]
  },
  {
   "cell_type": "code",
   "execution_count": 4,
   "metadata": {},
   "outputs": [
    {
     "name": "stderr",
     "output_type": "stream",
     "text": [
      "Downloading builder script: 100%|██████████| 10.8k/10.8k [00:00<00:00, 12.9MB/s]\n",
      "Downloading readme: 100%|██████████| 1.43k/1.43k [00:00<00:00, 4.95MB/s]\n"
     ]
    },
    {
     "name": "stdout",
     "output_type": "stream",
     "text": [
      "Downloading and preparing dataset lbox_open/casename_classification (download: 19.21 MiB, generated: 18.74 MiB, post-processed: Unknown size, total: 37.95 MiB) to /home/keti/.cache/huggingface/datasets/lbox___lbox_open/casename_classification/0.2.0/3d5761e2d9292b674a2adabbe7f4bc200d1985908e6f657e7953c9bf247da7ae...\n"
     ]
    },
    {
     "name": "stderr",
     "output_type": "stream",
     "text": [
      "Downloading data: 100%|██████████| 14.4M/14.4M [00:00<00:00, 101MB/s] \n",
      "Downloading data: 100%|██████████| 1.79M/1.79M [00:00<00:00, 61.8MB/s]\n",
      "Downloading data: 100%|██████████| 1.83M/1.83M [00:00<00:00, 65.5MB/s]\n",
      "Downloading data: 100%|██████████| 2.15M/2.15M [00:00<00:00, 67.0MB/s]\n",
      "                                                                                     \r"
     ]
    },
    {
     "name": "stdout",
     "output_type": "stream",
     "text": [
      "Dataset lbox_open downloaded and prepared to /home/keti/.cache/huggingface/datasets/lbox___lbox_open/casename_classification/0.2.0/3d5761e2d9292b674a2adabbe7f4bc200d1985908e6f657e7953c9bf247da7ae. Subsequent calls will reuse this data.\n"
     ]
    },
    {
     "name": "stderr",
     "output_type": "stream",
     "text": [
      "100%|██████████| 4/4 [00:00<00:00, 2193.10it/s]\n"
     ]
    },
    {
     "data": {
      "text/plain": [
       "DatasetDict({\n",
       "    train: Dataset({\n",
       "        features: ['id', 'casetype', 'casename', 'facts'],\n",
       "        num_rows: 8000\n",
       "    })\n",
       "    validation: Dataset({\n",
       "        features: ['id', 'casetype', 'casename', 'facts'],\n",
       "        num_rows: 1000\n",
       "    })\n",
       "    test: Dataset({\n",
       "        features: ['id', 'casetype', 'casename', 'facts'],\n",
       "        num_rows: 1000\n",
       "    })\n",
       "    test2: Dataset({\n",
       "        features: ['id', 'casetype', 'casename', 'facts'],\n",
       "        num_rows: 1294\n",
       "    })\n",
       "})"
      ]
     },
     "execution_count": 4,
     "metadata": {},
     "output_type": "execute_result"
    }
   ],
   "source": [
    "from datasets import load_dataset\n",
    "data_cn = load_dataset(\"lbox/lbox_open\", \"casename_classification\", download_mode=\"force_redownload\")\n",
    "data_cn"
   ]
  },
  {
   "cell_type": "code",
   "execution_count": 5,
   "metadata": {},
   "outputs": [],
   "source": [
    "# train + test 추출\n",
    "train_data = data_cn['train']\n",
    "test_data = data_cn['test']\n",
    "\n",
    "train = pd.DataFrame(train_data)\n",
    "test = pd.DataFrame(test_data)\n",
    "\n",
    "train = train[['casetype', 'casename', 'facts']]\n",
    "test = test[['casetype', 'casename', 'facts']]"
   ]
  },
  {
   "cell_type": "code",
   "execution_count": 6,
   "metadata": {},
   "outputs": [
    {
     "data": {
      "text/html": [
       "<div>\n",
       "<style scoped>\n",
       "    .dataframe tbody tr th:only-of-type {\n",
       "        vertical-align: middle;\n",
       "    }\n",
       "\n",
       "    .dataframe tbody tr th {\n",
       "        vertical-align: top;\n",
       "    }\n",
       "\n",
       "    .dataframe thead th {\n",
       "        text-align: right;\n",
       "    }\n",
       "</style>\n",
       "<table border=\"1\" class=\"dataframe\">\n",
       "  <thead>\n",
       "    <tr style=\"text-align: right;\">\n",
       "      <th></th>\n",
       "      <th>casetype</th>\n",
       "      <th>casename</th>\n",
       "      <th>facts</th>\n",
       "    </tr>\n",
       "  </thead>\n",
       "  <tbody>\n",
       "    <tr>\n",
       "      <th>0</th>\n",
       "      <td>criminal</td>\n",
       "      <td>감염병의예방및관리에관한법률위반</td>\n",
       "      <td>피고인은 고양시 일산서구 B건물 C동에서 ‘D'을 실질적으로 운영하는 자이다.\\n보...</td>\n",
       "    </tr>\n",
       "    <tr>\n",
       "      <th>1</th>\n",
       "      <td>criminal</td>\n",
       "      <td>감염병의예방및관리에관한법률위반</td>\n",
       "      <td>피고인은 성남시 중원구 B에서 ‘C'이라는 상호의 당구장을 운영하는 사람이다.\\n중...</td>\n",
       "    </tr>\n",
       "    <tr>\n",
       "      <th>2</th>\n",
       "      <td>criminal</td>\n",
       "      <td>감염병의예방및관리에관한법률위반</td>\n",
       "      <td>질병관리청장, 시·도지사 또는 시장·군수·구청장은 감염병을 예방하기 위하여나 감염병...</td>\n",
       "    </tr>\n",
       "    <tr>\n",
       "      <th>3</th>\n",
       "      <td>criminal</td>\n",
       "      <td>감염병의예방및관리에관한법률위반</td>\n",
       "      <td>질병관리청장, 시ㆍ도지사 또는 시장ㆍ군수ㆍ구청장은 감염병이 유행하면 감염병의 전파를...</td>\n",
       "    </tr>\n",
       "    <tr>\n",
       "      <th>4</th>\n",
       "      <td>criminal</td>\n",
       "      <td>감염병의예방및관리에관한법률위반</td>\n",
       "      <td>보건복지부장관, 시·도지사 또는 시장·군수·구청장은 감염병의 전파 방지 및 예방을 ...</td>\n",
       "    </tr>\n",
       "    <tr>\n",
       "      <th>...</th>\n",
       "      <td>...</td>\n",
       "      <td>...</td>\n",
       "      <td>...</td>\n",
       "    </tr>\n",
       "    <tr>\n",
       "      <th>7995</th>\n",
       "      <td>criminal</td>\n",
       "      <td>횡령</td>\n",
       "      <td>범죄전력\\n피고인은 2019. 12. 19. 서울중앙지방법원에서 도로교통법위반(음주...</td>\n",
       "    </tr>\n",
       "    <tr>\n",
       "      <th>7996</th>\n",
       "      <td>criminal</td>\n",
       "      <td>횡령</td>\n",
       "      <td>기초사실\\n피고인 B은 2018. 7.경 피고인 A에게 ‘신용도 문제가 있으니, 외...</td>\n",
       "    </tr>\n",
       "    <tr>\n",
       "      <th>7997</th>\n",
       "      <td>criminal</td>\n",
       "      <td>횡령</td>\n",
       "      <td>범죄전력\\n피고인 A은 2018. 4. 20. 대구지방법원 안동지원에서 사기죄 등으...</td>\n",
       "    </tr>\n",
       "    <tr>\n",
       "      <th>7998</th>\n",
       "      <td>criminal</td>\n",
       "      <td>횡령</td>\n",
       "      <td>피고인은 건설현장에서 목수로 일하는 사람으로 2012.경 지인의 소개로 피해자 B을...</td>\n",
       "    </tr>\n",
       "    <tr>\n",
       "      <th>7999</th>\n",
       "      <td>criminal</td>\n",
       "      <td>횡령</td>\n",
       "      <td>피고인은 시흥시 B공단 C호에 있는 ㈜D을 실질적으로 운영한 자이다.\\n피고인은 2...</td>\n",
       "    </tr>\n",
       "  </tbody>\n",
       "</table>\n",
       "<p>8000 rows × 3 columns</p>\n",
       "</div>"
      ],
      "text/plain": [
       "      casetype          casename  \\\n",
       "0     criminal  감염병의예방및관리에관한법률위반   \n",
       "1     criminal  감염병의예방및관리에관한법률위반   \n",
       "2     criminal  감염병의예방및관리에관한법률위반   \n",
       "3     criminal  감염병의예방및관리에관한법률위반   \n",
       "4     criminal  감염병의예방및관리에관한법률위반   \n",
       "...        ...               ...   \n",
       "7995  criminal                횡령   \n",
       "7996  criminal                횡령   \n",
       "7997  criminal                횡령   \n",
       "7998  criminal                횡령   \n",
       "7999  criminal                횡령   \n",
       "\n",
       "                                                  facts  \n",
       "0     피고인은 고양시 일산서구 B건물 C동에서 ‘D'을 실질적으로 운영하는 자이다.\\n보...  \n",
       "1     피고인은 성남시 중원구 B에서 ‘C'이라는 상호의 당구장을 운영하는 사람이다.\\n중...  \n",
       "2     질병관리청장, 시·도지사 또는 시장·군수·구청장은 감염병을 예방하기 위하여나 감염병...  \n",
       "3     질병관리청장, 시ㆍ도지사 또는 시장ㆍ군수ㆍ구청장은 감염병이 유행하면 감염병의 전파를...  \n",
       "4     보건복지부장관, 시·도지사 또는 시장·군수·구청장은 감염병의 전파 방지 및 예방을 ...  \n",
       "...                                                 ...  \n",
       "7995  범죄전력\\n피고인은 2019. 12. 19. 서울중앙지방법원에서 도로교통법위반(음주...  \n",
       "7996  기초사실\\n피고인 B은 2018. 7.경 피고인 A에게 ‘신용도 문제가 있으니, 외...  \n",
       "7997  범죄전력\\n피고인 A은 2018. 4. 20. 대구지방법원 안동지원에서 사기죄 등으...  \n",
       "7998  피고인은 건설현장에서 목수로 일하는 사람으로 2012.경 지인의 소개로 피해자 B을...  \n",
       "7999  피고인은 시흥시 B공단 C호에 있는 ㈜D을 실질적으로 운영한 자이다.\\n피고인은 2...  \n",
       "\n",
       "[8000 rows x 3 columns]"
      ]
     },
     "execution_count": 6,
     "metadata": {},
     "output_type": "execute_result"
    }
   ],
   "source": [
    "train"
   ]
  },
  {
   "cell_type": "code",
   "execution_count": 7,
   "metadata": {},
   "outputs": [
    {
     "data": {
      "text/html": [
       "<div>\n",
       "<style scoped>\n",
       "    .dataframe tbody tr th:only-of-type {\n",
       "        vertical-align: middle;\n",
       "    }\n",
       "\n",
       "    .dataframe tbody tr th {\n",
       "        vertical-align: top;\n",
       "    }\n",
       "\n",
       "    .dataframe thead th {\n",
       "        text-align: right;\n",
       "    }\n",
       "</style>\n",
       "<table border=\"1\" class=\"dataframe\">\n",
       "  <thead>\n",
       "    <tr style=\"text-align: right;\">\n",
       "      <th></th>\n",
       "      <th>casetype</th>\n",
       "      <th>casename</th>\n",
       "      <th>facts</th>\n",
       "    </tr>\n",
       "  </thead>\n",
       "  <tbody>\n",
       "    <tr>\n",
       "      <th>0</th>\n",
       "      <td>criminal</td>\n",
       "      <td>감염병의예방및관리에관한법률위반</td>\n",
       "      <td>질병관리청장, 시·도지사 또는 시장·군수·구청장은 감염병이 유행하면 감염병의 전파를...</td>\n",
       "    </tr>\n",
       "    <tr>\n",
       "      <th>1</th>\n",
       "      <td>criminal</td>\n",
       "      <td>감염병의예방및관리에관한법률위반</td>\n",
       "      <td>질병관리청장, 시․도지사 또는 시장․군수․구청장은 감염병을 예방하기 위하여 감염병의...</td>\n",
       "    </tr>\n",
       "    <tr>\n",
       "      <th>2</th>\n",
       "      <td>criminal</td>\n",
       "      <td>감염병의예방및관리에관한법률위반</td>\n",
       "      <td>보건복지부장관은 2020. 1. 8.경 코로나바이러스감염증-19(이하 ‘코로나-19...</td>\n",
       "    </tr>\n",
       "    <tr>\n",
       "      <th>3</th>\n",
       "      <td>criminal</td>\n",
       "      <td>감염병의예방및관리에관한법률위반</td>\n",
       "      <td>질병관리청장, 시·도지사 또는 시장·군수·구청장은 감염병을 예방하기 위하여 흥행, ...</td>\n",
       "    </tr>\n",
       "    <tr>\n",
       "      <th>4</th>\n",
       "      <td>criminal</td>\n",
       "      <td>감염병의예방및관리에관한법률위반</td>\n",
       "      <td>피고인들은 수원시 영통구 C, D호에서 E 유흥주점을 공동으로 운영하는 사람들이다....</td>\n",
       "    </tr>\n",
       "    <tr>\n",
       "      <th>...</th>\n",
       "      <td>...</td>\n",
       "      <td>...</td>\n",
       "      <td>...</td>\n",
       "    </tr>\n",
       "    <tr>\n",
       "      <th>995</th>\n",
       "      <td>criminal</td>\n",
       "      <td>횡령</td>\n",
       "      <td>피고인은 2019. 5.경 청주시 흥덕구 B에 있는 피해자 C이 운영하는 'D' 주...</td>\n",
       "    </tr>\n",
       "    <tr>\n",
       "      <th>996</th>\n",
       "      <td>criminal</td>\n",
       "      <td>횡령</td>\n",
       "      <td>피고인은 2019. 1. 12.경 전남 목포시 B, 2층 C직업소개소에서 2019....</td>\n",
       "    </tr>\n",
       "    <tr>\n",
       "      <th>997</th>\n",
       "      <td>criminal</td>\n",
       "      <td>횡령</td>\n",
       "      <td>피고인은 2018. 4. 24.경부터 2018. 7. 9.까지 당진시 B에 있는 C...</td>\n",
       "    </tr>\n",
       "    <tr>\n",
       "      <th>998</th>\n",
       "      <td>criminal</td>\n",
       "      <td>횡령</td>\n",
       "      <td>범죄전력\\n피고인은 2019. 9. 6. 수원지방법원 평택지원에서 횡령죄로 징역 8...</td>\n",
       "    </tr>\n",
       "    <tr>\n",
       "      <th>999</th>\n",
       "      <td>criminal</td>\n",
       "      <td>횡령</td>\n",
       "      <td>피고인은 2020. 8. 중순경 피해자 B의 부탁을 받아 거제시 C에 있는 타이어 ...</td>\n",
       "    </tr>\n",
       "  </tbody>\n",
       "</table>\n",
       "<p>1000 rows × 3 columns</p>\n",
       "</div>"
      ],
      "text/plain": [
       "     casetype          casename  \\\n",
       "0    criminal  감염병의예방및관리에관한법률위반   \n",
       "1    criminal  감염병의예방및관리에관한법률위반   \n",
       "2    criminal  감염병의예방및관리에관한법률위반   \n",
       "3    criminal  감염병의예방및관리에관한법률위반   \n",
       "4    criminal  감염병의예방및관리에관한법률위반   \n",
       "..        ...               ...   \n",
       "995  criminal                횡령   \n",
       "996  criminal                횡령   \n",
       "997  criminal                횡령   \n",
       "998  criminal                횡령   \n",
       "999  criminal                횡령   \n",
       "\n",
       "                                                 facts  \n",
       "0    질병관리청장, 시·도지사 또는 시장·군수·구청장은 감염병이 유행하면 감염병의 전파를...  \n",
       "1    질병관리청장, 시․도지사 또는 시장․군수․구청장은 감염병을 예방하기 위하여 감염병의...  \n",
       "2    보건복지부장관은 2020. 1. 8.경 코로나바이러스감염증-19(이하 ‘코로나-19...  \n",
       "3    질병관리청장, 시·도지사 또는 시장·군수·구청장은 감염병을 예방하기 위하여 흥행, ...  \n",
       "4    피고인들은 수원시 영통구 C, D호에서 E 유흥주점을 공동으로 운영하는 사람들이다....  \n",
       "..                                                 ...  \n",
       "995  피고인은 2019. 5.경 청주시 흥덕구 B에 있는 피해자 C이 운영하는 'D' 주...  \n",
       "996  피고인은 2019. 1. 12.경 전남 목포시 B, 2층 C직업소개소에서 2019....  \n",
       "997  피고인은 2018. 4. 24.경부터 2018. 7. 9.까지 당진시 B에 있는 C...  \n",
       "998  범죄전력\\n피고인은 2019. 9. 6. 수원지방법원 평택지원에서 횡령죄로 징역 8...  \n",
       "999  피고인은 2020. 8. 중순경 피해자 B의 부탁을 받아 거제시 C에 있는 타이어 ...  \n",
       "\n",
       "[1000 rows x 3 columns]"
      ]
     },
     "execution_count": 7,
     "metadata": {},
     "output_type": "execute_result"
    }
   ],
   "source": [
    "test"
   ]
  },
  {
   "cell_type": "code",
   "execution_count": 8,
   "metadata": {},
   "outputs": [
    {
     "name": "stdout",
     "output_type": "stream",
     "text": [
      "(8000, 3) (1000, 3)\n",
      "\n",
      "<class 'pandas.core.frame.DataFrame'>\n",
      "RangeIndex: 8000 entries, 0 to 7999\n",
      "Data columns (total 3 columns):\n",
      " #   Column    Non-Null Count  Dtype \n",
      "---  ------    --------------  ----- \n",
      " 0   casetype  8000 non-null   object\n",
      " 1   casename  8000 non-null   object\n",
      " 2   facts     8000 non-null   object\n",
      "dtypes: object(3)\n",
      "memory usage: 187.6+ KB\n",
      "<class 'pandas.core.frame.DataFrame'>\n",
      "RangeIndex: 1000 entries, 0 to 999\n",
      "Data columns (total 3 columns):\n",
      " #   Column    Non-Null Count  Dtype \n",
      "---  ------    --------------  ----- \n",
      " 0   casetype  1000 non-null   object\n",
      " 1   casename  1000 non-null   object\n",
      " 2   facts     1000 non-null   object\n",
      "dtypes: object(3)\n",
      "memory usage: 23.6+ KB\n",
      "None None\n",
      "\n",
      "        casetype          casename  \\\n",
      "count       8000              8000   \n",
      "unique         2               100   \n",
      "top     criminal  감염병의예방및관리에관한법률위반   \n",
      "freq        5440                80   \n",
      "\n",
      "                                                    facts  \n",
      "count                                                8000  \n",
      "unique                                               7997  \n",
      "top     범죄전력\\n피고인은 2018. 8. 10. 창원지방법원에서 도로교통법위반(음주운전)...  \n",
      "freq                                                    2           casetype          casename  \\\n",
      "count       1000              1000   \n",
      "unique         2               100   \n",
      "top     criminal  감염병의예방및관리에관한법률위반   \n",
      "freq         680                10   \n",
      "\n",
      "                                                    facts  \n",
      "count                                                1000  \n",
      "unique                                               1000  \n",
      "top     질병관리청장, 시·도지사 또는 시장·군수·구청장은 감염병이 유행하면 감염병의 전파를...  \n",
      "freq                                                    1  \n"
     ]
    }
   ],
   "source": [
    "print(train.shape, test.shape)\n",
    "print()\n",
    "print(train.info(), test.info())\n",
    "print()\n",
    "print(train.describe(), test.describe())"
   ]
  },
  {
   "cell_type": "markdown",
   "metadata": {},
   "source": [
    "## 2. EDA"
   ]
  },
  {
   "cell_type": "markdown",
   "metadata": {},
   "source": [
    "### Dist"
   ]
  },
  {
   "cell_type": "code",
   "execution_count": null,
   "metadata": {},
   "outputs": [],
   "source": [
    "fig, axes = plt.subplots(2, 2, figsize=(15, 10)) \n",
    "plt.subplots_adjust(left=0.1, bottom=0.2, right=0.9, top=0.8, wspace=0.5, hspace=0.5)\n",
    "\n",
    "# Train 데이터 casetype 분포\n",
    "sns.countplot(y=\"casetype\", data=train, order=train['casetype'].value_counts().index, ax=axes[0, 0])\n",
    "axes[0, 0].set_xlabel('count', fontsize=8)\n",
    "axes[0, 0].set_ylabel('casetype', fontsize=8)\n",
    "axes[0, 0].set_title('Distribution of casetype (Train)')\n",
    "\n",
    "# Train 데이터 casename 분포\n",
    "sns.countplot(y=\"casename\", data=train, order=train['casename'].value_counts().index, ax=axes[0, 1])\n",
    "axes[0, 1].set_xlabel('count', fontsize=8)\n",
    "axes[0, 1].set_ylabel('casename', fontsize=8)\n",
    "axes[0, 1].set_title('Distribution of casename (Train)')\n",
    "\n",
    "# test 데이터 casetype 분포\n",
    "sns.countplot(y=\"casetype\", data=test, order=test['casetype'].value_counts().index, ax=axes[1, 0])\n",
    "axes[1, 0].set_xlabel('count', fontsize=8)\n",
    "axes[1, 0].set_ylabel('casetype', fontsize=8)\n",
    "axes[1, 0].set_title('Distribution of casetype (test)')\n",
    "\n",
    "# test 데이터 casename 분포\n",
    "sns.countplot(y=\"casename\", data=test, order=test['casename'].value_counts().index, ax=axes[1, 1])\n",
    "axes[1, 1].set_xlabel('count', fontsize=8)\n",
    "axes[1, 1].set_ylabel('casename', fontsize=8)\n",
    "axes[1, 1].set_title('Distribution of casename (test)')\n",
    "\n",
    "plt.xticks(rotation=90)  # x축 글자 90도 회전\n",
    "plt.show()\n"
   ]
  },
  {
   "cell_type": "markdown",
   "metadata": {},
   "source": [
    "### len"
   ]
  },
  {
   "cell_type": "code",
   "execution_count": null,
   "metadata": {},
   "outputs": [],
   "source": [
    "# train과 test 데이터셋의 'doc_len' 칼럼 생성\n",
    "train['doc_len'] = train.facts.apply(lambda words: len(words.split()))\n",
    "test['doc_len'] = test.facts.apply(lambda words: len(words.split()))\n",
    "\n",
    "# plot\n",
    "plt.figure(figsize=(10, 6))\n",
    "sns.kdeplot(train['doc_len'], label='Train Document lengths', shade=True, color=\"blue\")\n",
    "sns.kdeplot(test['doc_len'], label='test Document lengths', shade=True, color=\"orange\")\n",
    "plt.axvline(x=train['doc_len'].mean(), color='blue', linestyle='--', label=f'Train mean: {train[\"doc_len\"].mean():.0f}')\n",
    "plt.axvline(x=test['doc_len'].mean(), color='orange', linestyle='--', label=f'test mean: {test[\"doc_len\"].mean():.0f}')\n",
    "plt.title(\"Document Lengths Distribution\")\n",
    "plt.xlabel(\"Document Length\")\n",
    "plt.ylabel(\"Density\")\n",
    "plt.legend()\n",
    "plt.show()\n",
    "\n",
    "# 가장 긴 문장과 가장 짧은 문장의 단어 수 출력\n",
    "max_train_len = train['doc_len'].max()\n",
    "min_train_len = train['doc_len'].min()\n",
    "max_test_len = test['doc_len'].max()\n",
    "min_test_len = test['doc_len'].min()\n",
    "\n",
    "print(f\"Train 데이터셋에서 가장 긴 문장: {max_train_len}개의 단어\")\n",
    "print(f\"Train 데이터셋에서 가장 짧은 문장: {min_train_len}개의 단어\")\n",
    "print(f\"test 데이터셋에서 가장 긴 문장: {max_test_len}개의 단어\")\n",
    "print(f\"test 데이터셋에서 가장 짧은 문장: {min_test_len}개의 단어\")"
   ]
  },
  {
   "cell_type": "markdown",
   "metadata": {},
   "source": [
    "### Base WordCloud\n",
    "토크나이저와 불용어 전처리를 모두 적용하지 않음"
   ]
  },
  {
   "cell_type": "code",
   "execution_count": null,
   "metadata": {},
   "outputs": [],
   "source": [
    "def base_wordcloud(data, text_column_name):\n",
    "    # 모든 텍스트를 하나의 문자열로 결합\n",
    "    text = \" \".join(data[text_column_name].dropna().tolist())\n",
    "    \n",
    "    # 워드 클라우드 생성\n",
    "    wordcloud = WordCloud(\n",
    "        font_path='/usr/share/fonts/truetype/nanum/NanumGothic.ttf',  # 한글 폰트 경로\n",
    "        width=800, \n",
    "        height=400, \n",
    "        background_color='white'\n",
    "    ).generate(text)\n",
    "    \n",
    "    # 워드 클라우드 표시\n",
    "    plt.figure(figsize=(10, 5))\n",
    "    plt.imshow(wordcloud, interpolation='bilinear')\n",
    "    plt.axis('off')\n",
    "    plt.show()"
   ]
  },
  {
   "cell_type": "code",
   "execution_count": null,
   "metadata": {},
   "outputs": [],
   "source": [
    "print('train')\n",
    "print (base_wordcloud(train, 'facts'))\n",
    "\n",
    "print('test')\n",
    "print( base_wordcloud(test, 'facts'))"
   ]
  },
  {
   "cell_type": "markdown",
   "metadata": {},
   "source": [
    "## 3. Embedding\n",
    "\n",
    "- 데이터 전처리\n",
    "- 형태소 분석기 적용"
   ]
  },
  {
   "cell_type": "markdown",
   "metadata": {},
   "source": [
    "### BASE"
   ]
  },
  {
   "cell_type": "code",
   "execution_count": null,
   "metadata": {},
   "outputs": [],
   "source": [
    "# 전처리 함수 정의\n",
    "def preprocess(text):\n",
    "    # 1. 특수 문자 제거\n",
    "    text = re.sub(r'[^\\w\\s]', '', text)\n",
    "    text = re.sub(r'\\d+', '', text)  # 숫자 제거\n",
    "    \n",
    "    # 2. 소문자 변환 (영어가 포함된 경우에 유효)\n",
    "    text = text.lower()\n",
    "    \n",
    "    # 3. 토큰화\n",
    "    tokens = text.split()\n",
    "    \n",
    "    # 4. Kkma를 사용한 형태소 분석\n",
    "    words = kkma.morphs(' '.join(tokens))  # 형태소 단위로 분리\n",
    "    \n",
    "    # 5. 최종 문서 형태로 반환\n",
    "    return ' '.join(words)"
   ]
  },
  {
   "cell_type": "code",
   "execution_count": null,
   "metadata": {},
   "outputs": [],
   "source": [
    "train['facts_pre'] = train['facts'].apply(preprocess)\n",
    "test['facts_pre'] = test['facts'].apply(preprocess)"
   ]
  },
  {
   "cell_type": "code",
   "execution_count": null,
   "metadata": {},
   "outputs": [],
   "source": [
    "train"
   ]
  },
  {
   "cell_type": "code",
   "execution_count": null,
   "metadata": {},
   "outputs": [],
   "source": [
    "test"
   ]
  },
  {
   "cell_type": "code",
   "execution_count": null,
   "metadata": {},
   "outputs": [],
   "source": [
    "from sklearn.metrics.pairwise import euclidean_distances, cosine_similarity\n",
    "\n",
    "def visualize_similarity_distance(vector1, vector2):\n",
    "    # 코사인 유사도 및 유클리디안 거리 계산\n",
    "    similarity_block = cosine_similarity(vector1, vector2)\n",
    "    euc_distances = euclidean_distances(vector1, vector2)\n",
    "    \n",
    "    # 시각화\n",
    "    plt.figure(figsize=(12, 5))\n",
    "    \n",
    "    # 코사인 유사도 히트맵\n",
    "    plt.subplot(1, 2, 1)\n",
    "    sns.heatmap(similarity_block, cmap=\"YlGnBu\", xticklabels=False, yticklabels=False)\n",
    "    plt.title(\"Cosine Similarity\")\n",
    "    plt.xlabel(\"train\")\n",
    "    plt.ylabel(\"test\")\n",
    "    \n",
    "    # 유클리디안 거리 히트맵\n",
    "    plt.subplot(1, 2, 2)\n",
    "    sns.heatmap(euc_distances, cmap=\"YlGnBu\", xticklabels=False, yticklabels=False)\n",
    "    plt.title(\"Euclidean Distance\")\n",
    "    plt.xlabel(\"train\")\n",
    "    plt.ylabel(\"test\")\n",
    "    \n",
    "    plt.show()"
   ]
  },
  {
   "cell_type": "markdown",
   "metadata": {},
   "source": [
    "### 3.1. TF-IDF \n",
    "Term Frequency - Inverse Documents Frequency\n"
   ]
  },
  {
   "cell_type": "code",
   "execution_count": null,
   "metadata": {},
   "outputs": [],
   "source": [
    "from sklearn.feature_extraction.text import TfidfVectorizer\n",
    "\n",
    "# TF-IDF 벡터화\n",
    "vectorizer = TfidfVectorizer()\n",
    "train_tfidf = vectorizer.fit_transform(train['facts_pre'])\n",
    "test_tfidf = vectorizer.transform(test['facts_pre'])\n",
    "\n",
    "visualize_similarity_distance(train_tfidf, test_tfidf)"
   ]
  },
  {
   "cell_type": "code",
   "execution_count": null,
   "metadata": {},
   "outputs": [],
   "source": []
  },
  {
   "cell_type": "code",
   "execution_count": null,
   "metadata": {},
   "outputs": [],
   "source": []
  },
  {
   "cell_type": "markdown",
   "metadata": {},
   "source": []
  },
  {
   "cell_type": "markdown",
   "metadata": {},
   "source": [
    "### 3.2. Word2Vec\n"
   ]
  },
  {
   "cell_type": "code",
   "execution_count": null,
   "metadata": {},
   "outputs": [],
   "source": [
    "# 문장 벡터 평균 계산 함수\n",
    "def sentence_vector(sentence, model):\n",
    "    words = sentence.split()\n",
    "    word_vectors = [model.wv[word] for word in words if word in model.wv]\n",
    "    return np.mean(word_vectors, axis=0) if word_vectors else np.zeros(model.vector_size)"
   ]
  },
  {
   "cell_type": "code",
   "execution_count": null,
   "metadata": {},
   "outputs": [],
   "source": [
    "from gensim.models import Word2Vec\n",
    "\n",
    "# Word2Vec 모델 학습\n",
    "sentences = [comment.split() for comment in train['facts_pre']] + [sentence.split() for sentence in test['facts_pre']]\n",
    "model = Word2Vec(sentences,\n",
    "                 vector_size=100,\n",
    "                 window=5,\n",
    "                 min_count=1,\n",
    "                 workers=4\n",
    "                 )\n",
    "\n",
    "# 각 데이터셋의 문장 벡터 생성\n",
    "train_word2vec = np.array([sentence_vector(comment, model) for comment in train['facts_pre']])\n",
    "test_word2vec = np.array([sentence_vector(sentence, model) for sentence in test['facts_pre']])\n",
    "visualize_similarity_distance(train_word2vec, test_word2vec)"
   ]
  },
  {
   "cell_type": "code",
   "execution_count": null,
   "metadata": {},
   "outputs": [],
   "source": []
  },
  {
   "cell_type": "code",
   "execution_count": null,
   "metadata": {},
   "outputs": [],
   "source": []
  },
  {
   "cell_type": "markdown",
   "metadata": {},
   "source": [
    "### 3.3. ELMo\n",
    "Contextualized representation"
   ]
  },
  {
   "cell_type": "code",
   "execution_count": null,
   "metadata": {},
   "outputs": [],
   "source": [
    "import tensorflow as tf\n",
    "import tensorflow_hub as hub\n",
    "\n",
    "# ELMo 모델 로드\n",
    "elmo = hub.load(\"https://tfhub.dev/google/elmo/3\")\n",
    "\n",
    "# ELMo 임베딩 생성 함수\n",
    "def elmo_embedding(sentences):\n",
    "    embeddings = elmo.signatures['default'](tf.constant(sentences))[\"elmo\"]\n",
    "    return embeddings.numpy() \n",
    "\n",
    "# 예시 데이터\n",
    "train_elmo = elmo_embedding(train['facts'])\n",
    "test_elmo = elmo_embedding(test['facts'])\n",
    "train_elmo"
   ]
  },
  {
   "cell_type": "markdown",
   "metadata": {},
   "source": [
    "### 3.4. KoBERT\n",
    "Pretrained LM"
   ]
  },
  {
   "cell_type": "code",
   "execution_count": 9,
   "metadata": {},
   "outputs": [
    {
     "data": {
      "text/plain": [
       "device(type='cuda')"
      ]
     },
     "execution_count": 9,
     "metadata": {},
     "output_type": "execute_result"
    }
   ],
   "source": [
    "import torch\n",
    "\n",
    "device = torch.device(\"cuda\" if torch.cuda.is_available() else \"cpu\")\n",
    "device"
   ]
  },
  {
   "cell_type": "code",
   "execution_count": 10,
   "metadata": {},
   "outputs": [
    {
     "name": "stderr",
     "output_type": "stream",
     "text": [
      "2024-11-12 12:42:28.669547: I tensorflow/core/util/port.cc:110] oneDNN custom operations are on. You may see slightly different numerical results due to floating-point round-off errors from different computation orders. To turn them off, set the environment variable `TF_ENABLE_ONEDNN_OPTS=0`.\n",
      "2024-11-12 12:42:28.670650: I tensorflow/tsl/cuda/cudart_stub.cc:28] Could not find cuda drivers on your machine, GPU will not be used.\n",
      "2024-11-12 12:42:28.773941: I tensorflow/core/platform/cpu_feature_guard.cc:182] This TensorFlow binary is optimized to use available CPU instructions in performance-critical operations.\n",
      "To enable the following instructions: AVX2 AVX_VNNI FMA, in other operations, rebuild TensorFlow with the appropriate compiler flags.\n",
      "2024-11-12 12:42:29.625365: W tensorflow/compiler/tf2tensorrt/utils/py_utils.cc:38] TF-TRT Warning: Could not find TensorRT\n",
      "The tokenizer class you load from this checkpoint is not the same type as the class this function is called from. It may result in unexpected tokenization. \n",
      "The tokenizer class you load from this checkpoint is 'KoBertTokenizer'. \n",
      "The class this function is called from is 'BertTokenizer'.\n"
     ]
    }
   ],
   "source": [
    "from transformers import BertTokenizer, BertModel\n",
    "\n",
    "kobert_model = BertModel.from_pretrained(\"monologg/kobert\").to(device)\n",
    "kobert_tokenizer = BertTokenizer.from_pretrained(\"monologg/kobert\", trust_remote_code=True)"
   ]
  },
  {
   "cell_type": "code",
   "execution_count": 73,
   "metadata": {},
   "outputs": [],
   "source": [
    "from typing import List\n",
    "\n",
    "def calculate_optimal_max_len(lengths: List[int], thresholds=[128, 256, 512], percentile=90) -> int:\n",
    "    \"\"\"\n",
    "    Calculates the optimal max_len based on the specified percentile of the lengths.\n",
    "    \n",
    "    Args:\n",
    "        lengths (List[int]): List of lengths of each text sample.\n",
    "        thresholds (List[int]): Possible threshold values to choose from.\n",
    "        percentile (int): The percentile to use as the cutoff for length.\n",
    "\n",
    "    Returns:\n",
    "        int: The optimal max_len based on the given percentile.\n",
    "    \"\"\"\n",
    "    # Calculate the length at the specified percentile\n",
    "    max_len_suggestion = np.percentile(lengths, percentile)\n",
    "    \n",
    "    # Find the closest threshold\n",
    "    optimal_max_len = min(thresholds, key=lambda x: abs(x - max_len_suggestion))\n",
    "    \n",
    "    # Plot length distribution and percentile line\n",
    "    plt.hist(lengths, bins=30, alpha=0.6, color='b', edgecolor='black')\n",
    "    plt.axvline(max_len_suggestion, color='red', linestyle='--', label=f'{percentile}th percentile = {int(max_len_suggestion)}')\n",
    "    plt.axvline(optimal_max_len, color='green', linestyle='-', label=f'Chosen max_len = {optimal_max_len}')\n",
    "    plt.xlabel('Text Length')\n",
    "    plt.ylabel('Frequency')\n",
    "    plt.title('Text Length Distribution with Optimal max_len')\n",
    "    plt.legend()\n",
    "    plt.show()\n",
    "    \n",
    "    return optimal_max_len"
   ]
  },
  {
   "cell_type": "code",
   "execution_count": 75,
   "metadata": {},
   "outputs": [
    {
     "data": {
      "image/png": "[encoded data removed]",
      "text/plain": [
       "<Figure size 640x480 with 1 Axes>"
      ]
     },
     "metadata": {},
     "output_type": "display_data"
    }
   ],
   "source": [
    "token_lengths = [len(kobert_tokenizer.encode(text)) for text in train.facts]\n",
    "\n",
    "max_len = calculate_optimal_max_len(token_lengths)"
   ]
  },
  {
   "cell_type": "code",
   "execution_count": 86,
   "metadata": {},
   "outputs": [
    {
     "data": {
      "image/png": "[encoded data removed]",
      "text/plain": [
       "<Figure size 640x480 with 1 Axes>"
      ]
     },
     "metadata": {},
     "output_type": "display_data"
    },
    {
     "data": {
      "text/plain": [
       "512"
      ]
     },
     "execution_count": 86,
     "metadata": {},
     "output_type": "execute_result"
    }
   ],
   "source": [
    "token_lengths = [len(kobert_tokenizer.encode(text)) for text in test.facts]\n",
    "\n",
    "calculate_optimal_max_len(token_lengths)"
   ]
  },
  {
   "cell_type": "markdown",
   "metadata": {},
   "source": [
    "#### LSDDDrift \n",
    "> Least-Squares Density Difference 두 분포 간의 밀도 차이를 직접 최소 제곱법으로 추정"
   ]
  },
  {
   "cell_type": "code",
   "execution_count": 76,
   "metadata": {},
   "outputs": [],
   "source": [
    "from torch.utils.data import Dataset\n",
    "\n",
    "# 텍스트 데이터를 위한 Dataset 정의\n",
    "class TextDataset(Dataset):\n",
    "    def __init__(self, texts):\n",
    "        self.texts = texts\n",
    "\n",
    "    def __len__(self):\n",
    "        return len(self.texts)\n",
    "\n",
    "    def __getitem__(self, idx):\n",
    "        return self.texts[idx]"
   ]
  },
  {
   "cell_type": "code",
   "execution_count": 77,
   "metadata": {},
   "outputs": [],
   "source": [
    "from alibi_detect.cd import LSDDDrift\n",
    "import time\n",
    "from tqdm import tqdm  \n",
    "from torch.utils.data import DataLoader\n",
    "\n",
    "# DriftDetection 클래스\n",
    "\n",
    "class DriftDetection:\n",
    "    def __init__(self, tokenizer, model, device, batch_size=8, p_val=0.05, max_length=max_len):\n",
    "        self.tokenizer = tokenizer\n",
    "        self.model = model\n",
    "        self.device = device\n",
    "        self.batch_size = batch_size\n",
    "        self.max_length = max_length\n",
    "        self.p_val = p_val\n",
    "        self.cd = None\n",
    "\n",
    "    def encode_texts(self, texts):\n",
    "        encodings = self.tokenizer(texts, truncation=True, padding=True, return_tensors='pt', max_length=self.max_length)\n",
    "        encodings = {key: val.to(self.device) for key, val in encodings.items()}\n",
    "        with torch.no_grad():\n",
    "            outputs = self.model(**encodings)\n",
    "        embeddings = outputs.last_hidden_state.mean(dim=1)\n",
    "        return embeddings\n",
    "\n",
    "    def fit(self, train_data):\n",
    "        \"\"\"train 데이터를 이용해 드리프트 감지기 초기화\"\"\"\n",
    "        dataset = TextDataset(train_data)\n",
    "        dataloader = DataLoader(dataset, batch_size=self.batch_size)\n",
    "        all_embeddings = []\n",
    "\n",
    "        start_time = time.time()\n",
    "        for batch_texts in tqdm(dataloader, desc=\"Fitting model\", unit=\"batch\"):\n",
    "            embeddings = self.encode_texts(batch_texts).cpu()\n",
    "            all_embeddings.append(embeddings)\n",
    "\n",
    "        # 모든 배치의 임베딩을 합쳐서 LSDDDrift 초기화에 사용\n",
    "        all_embeddings = torch.cat(all_embeddings, dim=0).numpy()\n",
    "        self.cd = LSDDDrift(x_ref=all_embeddings, p_val=self.p_val, backend='pytorch')\n",
    "\n",
    "        end_time = time.time()\n",
    "        print(f\"Fitting completed in {end_time - start_time:.2f} seconds\")\n",
    "\n",
    "    def predict(self, test_data):\n",
    "        \"\"\"test 데이터를 이용해 드리프트 감지 예측 수행\"\"\"\n",
    "        dataset = TextDataset(test_data)\n",
    "        dataloader = DataLoader(dataset, batch_size=self.batch_size)\n",
    "        drift_results = []\n",
    "\n",
    "        start_time = time.time()\n",
    "        for batch_texts in tqdm(dataloader, desc=\"Predicting drift\", unit=\"batch\"):\n",
    "            embeddings = self.encode_texts(batch_texts).cpu().numpy()\n",
    "            predictions = self.cd.predict(embeddings)\n",
    "\n",
    "            # predictions['data']['is_drift']가 리스트인지 정수인지 확인 후 추가\n",
    "            is_drift = predictions['data']['is_drift']\n",
    "            if isinstance(is_drift, list):\n",
    "                drift_results.extend(is_drift)\n",
    "            else:\n",
    "                drift_results.append(is_drift)\n",
    "\n",
    "        end_time = time.time()\n",
    "        print(f\"Prediction completed in {end_time - start_time:.2f} seconds\")\n",
    "\n",
    "        return drift_results"
   ]
  },
  {
   "cell_type": "code",
   "execution_count": 78,
   "metadata": {},
   "outputs": [
    {
     "name": "stderr",
     "output_type": "stream",
     "text": [
      "Fitting model: 100%|██████████| 1000/1000 [00:29<00:00, 34.37batch/s]"
     ]
    },
    {
     "name": "stdout",
     "output_type": "stream",
     "text": [
      "Fitting completed in 29.13 seconds\n"
     ]
    },
    {
     "name": "stderr",
     "output_type": "stream",
     "text": [
      "\n"
     ]
    }
   ],
   "source": [
    "# DriftDetection 객체 생성 및 데이터 처리\n",
    "drift_detector = DriftDetection(kobert_tokenizer, kobert_model, device, batch_size=8, p_val=0.05, max_length=max_len)\n",
    "\n",
    "# 1. 학습 데이터에 대해 모델 초기화 (fit)\n",
    "train_facts = list(train[\"facts\"])  # 텍스트 데이터 준비\n",
    "drift_detector.fit(train_facts)"
   ]
  },
  {
   "cell_type": "code",
   "execution_count": 79,
   "metadata": {},
   "outputs": [
    {
     "name": "stderr",
     "output_type": "stream",
     "text": [
      "Predicting drift: 100%|██████████| 125/125 [00:05<00:00, 21.26batch/s]"
     ]
    },
    {
     "name": "stdout",
     "output_type": "stream",
     "text": [
      "Prediction completed in 5.88 seconds\n",
      "Test sample 0 Drift Prediction: 1\n",
      "Test sample 1 Drift Prediction: 1\n",
      "Test sample 2 Drift Prediction: 1\n",
      "Test sample 3 Drift Prediction: 1\n",
      "Test sample 4 Drift Prediction: 1\n",
      "Test sample 5 Drift Prediction: 1\n",
      "Test sample 6 Drift Prediction: 1\n",
      "Test sample 7 Drift Prediction: 1\n",
      "Test sample 8 Drift Prediction: 1\n",
      "Test sample 9 Drift Prediction: 1\n",
      "Test sample 10 Drift Prediction: 1\n",
      "Test sample 11 Drift Prediction: 0\n",
      "Test sample 12 Drift Prediction: 1\n",
      "Test sample 13 Drift Prediction: 1\n",
      "Test sample 14 Drift Prediction: 0\n",
      "Test sample 15 Drift Prediction: 1\n",
      "Test sample 16 Drift Prediction: 1\n",
      "Test sample 17 Drift Prediction: 1\n",
      "Test sample 18 Drift Prediction: 1\n",
      "Test sample 19 Drift Prediction: 1\n",
      "Test sample 20 Drift Prediction: 1\n",
      "Test sample 21 Drift Prediction: 1\n",
      "Test sample 22 Drift Prediction: 1\n",
      "Test sample 23 Drift Prediction: 1\n",
      "Test sample 24 Drift Prediction: 1\n",
      "Test sample 25 Drift Prediction: 1\n",
      "Test sample 26 Drift Prediction: 1\n",
      "Test sample 27 Drift Prediction: 1\n",
      "Test sample 28 Drift Prediction: 1\n",
      "Test sample 29 Drift Prediction: 1\n",
      "Test sample 30 Drift Prediction: 1\n",
      "Test sample 31 Drift Prediction: 1\n",
      "Test sample 32 Drift Prediction: 1\n",
      "Test sample 33 Drift Prediction: 1\n",
      "Test sample 34 Drift Prediction: 1\n",
      "Test sample 35 Drift Prediction: 1\n",
      "Test sample 36 Drift Prediction: 1\n",
      "Test sample 37 Drift Prediction: 1\n",
      "Test sample 38 Drift Prediction: 0\n",
      "Test sample 39 Drift Prediction: 1\n",
      "Test sample 40 Drift Prediction: 1\n",
      "Test sample 41 Drift Prediction: 1\n",
      "Test sample 42 Drift Prediction: 1\n",
      "Test sample 43 Drift Prediction: 1\n",
      "Test sample 44 Drift Prediction: 1\n",
      "Test sample 45 Drift Prediction: 1\n",
      "Test sample 46 Drift Prediction: 0\n",
      "Test sample 47 Drift Prediction: 0\n",
      "Test sample 48 Drift Prediction: 1\n",
      "Test sample 49 Drift Prediction: 1\n",
      "Test sample 50 Drift Prediction: 0\n",
      "Test sample 51 Drift Prediction: 1\n",
      "Test sample 52 Drift Prediction: 1\n",
      "Test sample 53 Drift Prediction: 1\n",
      "Test sample 54 Drift Prediction: 1\n",
      "Test sample 55 Drift Prediction: 1\n",
      "Test sample 56 Drift Prediction: 1\n",
      "Test sample 57 Drift Prediction: 1\n",
      "Test sample 58 Drift Prediction: 0\n",
      "Test sample 59 Drift Prediction: 1\n",
      "Test sample 60 Drift Prediction: 1\n",
      "Test sample 61 Drift Prediction: 1\n",
      "Test sample 62 Drift Prediction: 1\n",
      "Test sample 63 Drift Prediction: 1\n",
      "Test sample 64 Drift Prediction: 1\n",
      "Test sample 65 Drift Prediction: 1\n",
      "Test sample 66 Drift Prediction: 1\n",
      "Test sample 67 Drift Prediction: 1\n",
      "Test sample 68 Drift Prediction: 1\n",
      "Test sample 69 Drift Prediction: 1\n",
      "Test sample 70 Drift Prediction: 0\n",
      "Test sample 71 Drift Prediction: 0\n",
      "Test sample 72 Drift Prediction: 1\n",
      "Test sample 73 Drift Prediction: 1\n",
      "Test sample 74 Drift Prediction: 1\n",
      "Test sample 75 Drift Prediction: 1\n",
      "Test sample 76 Drift Prediction: 1\n",
      "Test sample 77 Drift Prediction: 0\n",
      "Test sample 78 Drift Prediction: 1\n",
      "Test sample 79 Drift Prediction: 0\n",
      "Test sample 80 Drift Prediction: 1\n",
      "Test sample 81 Drift Prediction: 1\n",
      "Test sample 82 Drift Prediction: 1\n",
      "Test sample 83 Drift Prediction: 1\n",
      "Test sample 84 Drift Prediction: 1\n",
      "Test sample 85 Drift Prediction: 1\n",
      "Test sample 86 Drift Prediction: 0\n",
      "Test sample 87 Drift Prediction: 0\n",
      "Test sample 88 Drift Prediction: 1\n",
      "Test sample 89 Drift Prediction: 1\n",
      "Test sample 90 Drift Prediction: 1\n",
      "Test sample 91 Drift Prediction: 0\n",
      "Test sample 92 Drift Prediction: 0\n",
      "Test sample 93 Drift Prediction: 1\n",
      "Test sample 94 Drift Prediction: 1\n",
      "Test sample 95 Drift Prediction: 0\n",
      "Test sample 96 Drift Prediction: 1\n",
      "Test sample 97 Drift Prediction: 1\n",
      "Test sample 98 Drift Prediction: 1\n",
      "Test sample 99 Drift Prediction: 1\n",
      "Test sample 100 Drift Prediction: 1\n",
      "Test sample 101 Drift Prediction: 1\n",
      "Test sample 102 Drift Prediction: 0\n",
      "Test sample 103 Drift Prediction: 1\n",
      "Test sample 104 Drift Prediction: 1\n",
      "Test sample 105 Drift Prediction: 0\n",
      "Test sample 106 Drift Prediction: 0\n",
      "Test sample 107 Drift Prediction: 1\n",
      "Test sample 108 Drift Prediction: 0\n",
      "Test sample 109 Drift Prediction: 0\n",
      "Test sample 110 Drift Prediction: 1\n",
      "Test sample 111 Drift Prediction: 1\n",
      "Test sample 112 Drift Prediction: 1\n",
      "Test sample 113 Drift Prediction: 1\n",
      "Test sample 114 Drift Prediction: 1\n",
      "Test sample 115 Drift Prediction: 1\n",
      "Test sample 116 Drift Prediction: 1\n",
      "Test sample 117 Drift Prediction: 1\n",
      "Test sample 118 Drift Prediction: 1\n",
      "Test sample 119 Drift Prediction: 1\n",
      "Test sample 120 Drift Prediction: 1\n",
      "Test sample 121 Drift Prediction: 1\n",
      "Test sample 122 Drift Prediction: 1\n",
      "Test sample 123 Drift Prediction: 1\n",
      "Test sample 124 Drift Prediction: 0\n"
     ]
    },
    {
     "name": "stderr",
     "output_type": "stream",
     "text": [
      "\n"
     ]
    }
   ],
   "source": [
    "test_facts = list(test[\"facts\"])  # 테스트 텍스트 데이터 준비\n",
    "drift_results = drift_detector.predict(test_facts)\n",
    "\n",
    "# 결과 출력\n",
    "for idx, result in enumerate(drift_results):\n",
    "    print(f\"Test sample {idx} Drift Prediction: {result}\") # 배치 크기에 따라 길이 지정"
   ]
  },
  {
   "cell_type": "code",
   "execution_count": 81,
   "metadata": {},
   "outputs": [
    {
     "name": "stdout",
     "output_type": "stream",
     "text": [
      "125\n",
      "\n",
      "Counter({1: 103, 0: 22})\n",
      "\n",
      "data drift % :  0.824\n"
     ]
    }
   ],
   "source": [
    "from collections import Counter\n",
    "\n",
    "print(len(drift_results))\n",
    "print()\n",
    "print(Counter(drift_results)) # 1이 감지된 것\n",
    "print()\n",
    "print(\"data drift % : \",  Counter(drift_results)[1]/len(drift_results))"
   ]
  },
  {
   "cell_type": "markdown",
   "metadata": {},
   "source": [
    "#### MMD\n",
    "> Maximum Mean Discrepancy\n",
    "     두 분포의 평균 차이를 최대화하는 방식으로 분포 간의 차이를 측정"
   ]
  },
  {
   "cell_type": "code",
   "execution_count": 82,
   "metadata": {},
   "outputs": [],
   "source": [
    "from alibi_detect.cd import MMDDrift\n",
    "import time\n",
    "from tqdm import tqdm  \n",
    "from torch.utils.data import DataLoader\n",
    "import torch\n",
    "\n",
    "class DriftDetection:\n",
    "    def __init__(self, tokenizer, model, device, batch_size=8, p_val=0.05, max_length=max_len):\n",
    "        self.tokenizer = tokenizer\n",
    "        self.model = model\n",
    "        self.device = device\n",
    "        self.batch_size = batch_size\n",
    "        self.max_length = max_length\n",
    "        self.p_val = p_val\n",
    "        self.cd = None\n",
    "\n",
    "    def encode_texts(self, texts):\n",
    "        encodings = self.tokenizer(texts, truncation=True, padding=True, return_tensors='pt', max_length=self.max_length)\n",
    "        encodings = {key: val.to(self.device) for key, val in encodings.items()}\n",
    "        with torch.no_grad():\n",
    "            outputs = self.model(**encodings)\n",
    "        embeddings = outputs.last_hidden_state.mean(dim=1)\n",
    "        return embeddings\n",
    "\n",
    "    def fit(self, train_data):\n",
    "        \"\"\"train 데이터를 이용해 드리프트 감지기 초기화\"\"\"\n",
    "        dataset = TextDataset(train_data)\n",
    "        dataloader = DataLoader(dataset, batch_size=self.batch_size)\n",
    "        all_embeddings = []\n",
    "\n",
    "        start_time = time.time()\n",
    "        for batch_texts in tqdm(dataloader, desc=\"Fitting model\", unit=\"batch\"):\n",
    "            embeddings = self.encode_texts(batch_texts).cpu()\n",
    "            all_embeddings.append(embeddings)\n",
    "\n",
    "        # 모든 배치의 임베딩을 합쳐서 MMDDrift 초기화에 사용\n",
    "        all_embeddings = torch.cat(all_embeddings, dim=0).numpy()\n",
    "        self.cd = MMDDrift(x_ref=all_embeddings, p_val=self.p_val, backend='pytorch')\n",
    "\n",
    "        end_time = time.time()\n",
    "        print(f\"Fitting completed in {end_time - start_time:.2f} seconds\")\n",
    "\n",
    "    def predict(self, test_data):\n",
    "        \"\"\"test 데이터를 이용해 드리프트 감지 예측 수행\"\"\"\n",
    "        dataset = TextDataset(test_data)\n",
    "        dataloader = DataLoader(dataset, batch_size=self.batch_size)\n",
    "        drift_results = []\n",
    "\n",
    "        start_time = time.time()\n",
    "        for batch_texts in tqdm(dataloader, desc=\"Predicting drift\", unit=\"batch\"):\n",
    "            embeddings = self.encode_texts(batch_texts).cpu().numpy()\n",
    "            predictions = self.cd.predict(embeddings)\n",
    "\n",
    "            # predictions['data']['is_drift']가 리스트인지 정수인지 확인 후 추가\n",
    "            is_drift = predictions['data']['is_drift']\n",
    "            if isinstance(is_drift, list):\n",
    "                drift_results.extend(is_drift)\n",
    "            else:\n",
    "                drift_results.append(is_drift)\n",
    "\n",
    "        end_time = time.time()\n",
    "        print(f\"Prediction completed in {end_time - start_time:.2f} seconds\")\n",
    "\n",
    "        return drift_results\n"
   ]
  },
  {
   "cell_type": "code",
   "execution_count": 83,
   "metadata": {},
   "outputs": [
    {
     "name": "stderr",
     "output_type": "stream",
     "text": [
      "Fitting model: 100%|██████████| 1000/1000 [00:28<00:00, 34.52batch/s]"
     ]
    },
    {
     "name": "stdout",
     "output_type": "stream",
     "text": [
      "Fitting completed in 28.98 seconds\n"
     ]
    },
    {
     "name": "stderr",
     "output_type": "stream",
     "text": [
      "\n"
     ]
    }
   ],
   "source": [
    "# DriftDetection 객체 생성 및 데이터 처리\n",
    "drift_detector = DriftDetection(kobert_tokenizer, kobert_model, device, batch_size=8, p_val=0.05, max_length=max_len)\n",
    "\n",
    "# 1. 학습 데이터에 대해 모델 초기화 (fit)\n",
    "train_facts = list(train[\"facts\"])  # 텍스트 데이터 준비\n",
    "drift_detector.fit(train_facts)"
   ]
  },
  {
   "cell_type": "code",
   "execution_count": 84,
   "metadata": {},
   "outputs": [
    {
     "name": "stderr",
     "output_type": "stream",
     "text": [
      "Predicting drift: 100%|██████████| 125/125 [00:25<00:00,  4.90batch/s]"
     ]
    },
    {
     "name": "stdout",
     "output_type": "stream",
     "text": [
      "Prediction completed in 25.49 seconds\n",
      "Test sample 0 Drift Prediction: 1\n",
      "Test sample 1 Drift Prediction: 1\n",
      "Test sample 2 Drift Prediction: 1\n",
      "Test sample 3 Drift Prediction: 1\n",
      "Test sample 4 Drift Prediction: 1\n",
      "Test sample 5 Drift Prediction: 1\n",
      "Test sample 6 Drift Prediction: 1\n",
      "Test sample 7 Drift Prediction: 1\n",
      "Test sample 8 Drift Prediction: 1\n",
      "Test sample 9 Drift Prediction: 1\n",
      "Test sample 10 Drift Prediction: 1\n",
      "Test sample 11 Drift Prediction: 0\n",
      "Test sample 12 Drift Prediction: 1\n",
      "Test sample 13 Drift Prediction: 1\n",
      "Test sample 14 Drift Prediction: 0\n",
      "Test sample 15 Drift Prediction: 1\n",
      "Test sample 16 Drift Prediction: 1\n",
      "Test sample 17 Drift Prediction: 1\n",
      "Test sample 18 Drift Prediction: 1\n",
      "Test sample 19 Drift Prediction: 1\n",
      "Test sample 20 Drift Prediction: 1\n",
      "Test sample 21 Drift Prediction: 1\n",
      "Test sample 22 Drift Prediction: 1\n",
      "Test sample 23 Drift Prediction: 1\n",
      "Test sample 24 Drift Prediction: 1\n",
      "Test sample 25 Drift Prediction: 0\n",
      "Test sample 26 Drift Prediction: 1\n",
      "Test sample 27 Drift Prediction: 1\n",
      "Test sample 28 Drift Prediction: 1\n",
      "Test sample 29 Drift Prediction: 1\n",
      "Test sample 30 Drift Prediction: 1\n",
      "Test sample 31 Drift Prediction: 1\n",
      "Test sample 32 Drift Prediction: 1\n",
      "Test sample 33 Drift Prediction: 1\n",
      "Test sample 34 Drift Prediction: 1\n",
      "Test sample 35 Drift Prediction: 1\n",
      "Test sample 36 Drift Prediction: 1\n",
      "Test sample 37 Drift Prediction: 1\n",
      "Test sample 38 Drift Prediction: 0\n",
      "Test sample 39 Drift Prediction: 1\n",
      "Test sample 40 Drift Prediction: 1\n",
      "Test sample 41 Drift Prediction: 0\n",
      "Test sample 42 Drift Prediction: 1\n",
      "Test sample 43 Drift Prediction: 0\n",
      "Test sample 44 Drift Prediction: 0\n",
      "Test sample 45 Drift Prediction: 0\n",
      "Test sample 46 Drift Prediction: 0\n",
      "Test sample 47 Drift Prediction: 0\n",
      "Test sample 48 Drift Prediction: 1\n",
      "Test sample 49 Drift Prediction: 1\n",
      "Test sample 50 Drift Prediction: 0\n",
      "Test sample 51 Drift Prediction: 1\n",
      "Test sample 52 Drift Prediction: 1\n",
      "Test sample 53 Drift Prediction: 1\n",
      "Test sample 54 Drift Prediction: 1\n",
      "Test sample 55 Drift Prediction: 1\n",
      "Test sample 56 Drift Prediction: 1\n",
      "Test sample 57 Drift Prediction: 1\n",
      "Test sample 58 Drift Prediction: 0\n",
      "Test sample 59 Drift Prediction: 1\n",
      "Test sample 60 Drift Prediction: 1\n",
      "Test sample 61 Drift Prediction: 1\n",
      "Test sample 62 Drift Prediction: 1\n",
      "Test sample 63 Drift Prediction: 1\n",
      "Test sample 64 Drift Prediction: 1\n",
      "Test sample 65 Drift Prediction: 1\n",
      "Test sample 66 Drift Prediction: 1\n",
      "Test sample 67 Drift Prediction: 1\n",
      "Test sample 68 Drift Prediction: 1\n",
      "Test sample 69 Drift Prediction: 1\n",
      "Test sample 70 Drift Prediction: 0\n",
      "Test sample 71 Drift Prediction: 0\n",
      "Test sample 72 Drift Prediction: 1\n",
      "Test sample 73 Drift Prediction: 1\n",
      "Test sample 74 Drift Prediction: 1\n",
      "Test sample 75 Drift Prediction: 0\n",
      "Test sample 76 Drift Prediction: 1\n",
      "Test sample 77 Drift Prediction: 0\n",
      "Test sample 78 Drift Prediction: 0\n",
      "Test sample 79 Drift Prediction: 0\n",
      "Test sample 80 Drift Prediction: 1\n",
      "Test sample 81 Drift Prediction: 1\n",
      "Test sample 82 Drift Prediction: 1\n",
      "Test sample 83 Drift Prediction: 1\n",
      "Test sample 84 Drift Prediction: 1\n",
      "Test sample 85 Drift Prediction: 0\n",
      "Test sample 86 Drift Prediction: 0\n",
      "Test sample 87 Drift Prediction: 0\n",
      "Test sample 88 Drift Prediction: 1\n",
      "Test sample 89 Drift Prediction: 1\n",
      "Test sample 90 Drift Prediction: 1\n",
      "Test sample 91 Drift Prediction: 0\n",
      "Test sample 92 Drift Prediction: 0\n",
      "Test sample 93 Drift Prediction: 1\n",
      "Test sample 94 Drift Prediction: 1\n",
      "Test sample 95 Drift Prediction: 0\n",
      "Test sample 96 Drift Prediction: 0\n",
      "Test sample 97 Drift Prediction: 0\n",
      "Test sample 98 Drift Prediction: 1\n",
      "Test sample 99 Drift Prediction: 0\n",
      "Test sample 100 Drift Prediction: 1\n",
      "Test sample 101 Drift Prediction: 1\n",
      "Test sample 102 Drift Prediction: 0\n",
      "Test sample 103 Drift Prediction: 1\n",
      "Test sample 104 Drift Prediction: 1\n",
      "Test sample 105 Drift Prediction: 0\n",
      "Test sample 106 Drift Prediction: 0\n",
      "Test sample 107 Drift Prediction: 1\n",
      "Test sample 108 Drift Prediction: 0\n",
      "Test sample 109 Drift Prediction: 0\n",
      "Test sample 110 Drift Prediction: 0\n",
      "Test sample 111 Drift Prediction: 1\n",
      "Test sample 112 Drift Prediction: 1\n",
      "Test sample 113 Drift Prediction: 1\n",
      "Test sample 114 Drift Prediction: 1\n",
      "Test sample 115 Drift Prediction: 1\n",
      "Test sample 116 Drift Prediction: 1\n",
      "Test sample 117 Drift Prediction: 1\n",
      "Test sample 118 Drift Prediction: 1\n",
      "Test sample 119 Drift Prediction: 1\n",
      "Test sample 120 Drift Prediction: 0\n",
      "Test sample 121 Drift Prediction: 1\n",
      "Test sample 122 Drift Prediction: 1\n",
      "Test sample 123 Drift Prediction: 0\n",
      "Test sample 124 Drift Prediction: 0\n"
     ]
    },
    {
     "name": "stderr",
     "output_type": "stream",
     "text": [
      "\n"
     ]
    }
   ],
   "source": [
    "test_facts = list(test[\"facts\"])  # 테스트 텍스트 데이터 준비\n",
    "drift_results = drift_detector.predict(test_facts)\n",
    "\n",
    "# 결과 출력\n",
    "for idx, result in enumerate(drift_results):\n",
    "    print(f\"Test sample {idx} Drift Prediction: {result}\") # 배치 크기에 따라 길이 지정"
   ]
  },
  {
   "cell_type": "code",
   "execution_count": 85,
   "metadata": {},
   "outputs": [
    {
     "name": "stdout",
     "output_type": "stream",
     "text": [
      "125\n",
      "\n",
      "Counter({1: 89, 0: 36})\n",
      "\n",
      "data drift % :  0.712\n"
     ]
    }
   ],
   "source": [
    "from collections import Counter\n",
    "\n",
    "print(len(drift_results))\n",
    "print()\n",
    "print(Counter(drift_results)) # 1이 감지된 것\n",
    "print()\n",
    "print(\"data drift % : \",  Counter(drift_results)[1]/len(drift_results))"
   ]
  },
  {
   "cell_type": "code",
   "execution_count": null,
   "metadata": {},
   "outputs": [],
   "source": []
  },
  {
   "cell_type": "code",
   "execution_count": null,
   "metadata": {},
   "outputs": [],
   "source": []
  },
  {
   "cell_type": "code",
   "execution_count": null,
   "metadata": {},
   "outputs": [],
   "source": []
  }
 ],
 "metadata": {
  "kernelspec": {
   "display_name": "myenv310",
   "language": "python",
   "name": "python3"
  },
  "language_info": {
   "codemirror_mode": {
    "name": "ipython",
    "version": 3
   },
   "file_extension": ".py",
   "mimetype": "text/x-python",
   "name": "python",
   "nbconvert_exporter": "python",
   "pygments_lexer": "ipython3",
   "version": "3.10.15"
  }
 },
 "nbformat": 4,
 "nbformat_minor": 2
}
